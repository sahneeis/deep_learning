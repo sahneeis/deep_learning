{
 "cells": [
  {
   "attachments": {},
   "cell_type": "markdown",
   "metadata": {
    "id": "g6vUCiE_N5eU"
   },
   "source": [
    "# Cifar10 Classification"
   ]
  },
  {
   "attachments": {},
   "cell_type": "markdown",
   "metadata": {
    "id": "X9ridWdTN5eY"
   },
   "source": [
    "Until now, we have implemented several pieces of a deep learning pipeline and trained a two-layer neural network, but all hyperparameters were pre-set to values yielding resonable results. However, in real problems a large part of the work will be geared towards finding the best hyperparameter settings for a certain problem. In this notebook we will explore some good practices for network debugging and hyperparameters search, as well as extending our binary classification neural network to a multi-class one.\n",
    "\n",
    "Let's go!\n",
    "\n",
    "**Note 1**: This exercise is quite heavy with computations. We recommend using Google-Colab.\n",
    "\n",
    "**Note 2**: This exercise take time, so start early!!"
   ]
  },
  {
   "attachments": {},
   "cell_type": "markdown",
   "metadata": {
    "id": "4sTNILP7OCzb"
   },
   "source": [
    "## (Optional) Mount folder in Colab\n",
    "\n",
    "Uncomment the following cell to mount your gdrive if you are using the notebook in google colab:"
   ]
  },
  {
   "cell_type": "code",
   "execution_count": 5,
   "metadata": {
    "colab": {
     "base_uri": "https://localhost:8080/"
    },
    "executionInfo": {
     "elapsed": 35664,
     "status": "ok",
     "timestamp": 1650011700447,
     "user": {
      "displayName": "Weber Anna",
      "userId": "18154618360144454414"
     },
     "user_tz": -120
    },
    "id": "PoG-5okpOPht",
    "outputId": "a670ffa3-ee59-4ef5-e323-3f3fec373486"
   },
   "outputs": [
    {
     "data": {
      "text/plain": [
       "\"\\nfrom google.colab import drive\\nimport os\\n\\ngdrive_path='/content/gdrive/MyDrive/i2dl/exercise_06'\\n\\n# This will mount your google drive under 'MyDrive'\\ndrive.mount('/content/gdrive', force_remount=True)\\n# In order to access the files in this notebook we have to navigate to the correct folder\\nos.chdir(gdrive_path)\\n# Check manually if all files are present\\nprint(sorted(os.listdir()))\\n\""
      ]
     },
     "execution_count": 5,
     "metadata": {},
     "output_type": "execute_result"
    }
   ],
   "source": [
    "\"\"\"\n",
    "from google.colab import drive\n",
    "import os\n",
    "\n",
    "gdrive_path='/content/gdrive/MyDrive/i2dl/exercise_06'\n",
    "\n",
    "# This will mount your google drive under 'MyDrive'\n",
    "drive.mount('/content/gdrive', force_remount=True)\n",
    "# In order to access the files in this notebook we have to navigate to the correct folder\n",
    "os.chdir(gdrive_path)\n",
    "# Check manually if all files are present\n",
    "print(sorted(os.listdir()))\n",
    "\"\"\""
   ]
  },
  {
   "cell_type": "code",
   "execution_count": 6,
   "metadata": {
    "id": "JZmN1ATIN5eY"
   },
   "outputs": [],
   "source": [
    "# Some lengthy setup.\n",
    "import matplotlib.pyplot as plt\n",
    "import numpy as np\n",
    "import os\n",
    "import urllib.request\n",
    "\n",
    "from exercise_code.networks.layer import (\n",
    "    Sigmoid, \n",
    "    Relu, \n",
    "    LeakyRelu, \n",
    "    Tanh,\n",
    ")\n",
    "from exercise_code.data import (\n",
    "    DataLoader,\n",
    "    ImageFolderDataset,\n",
    "    MemoryImageFolderDataset,\n",
    "    RescaleTransform,\n",
    "    NormalizeTransform,\n",
    "    FlattenTransform,\n",
    "    ComposeTransform,\n",
    ")\n",
    "from exercise_code.data.image_folder_dataset import RandomHorizontalFlip\n",
    "from exercise_code.networks import (\n",
    "    ClassificationNet,\n",
    "    BCE,\n",
    "    CrossEntropyFromLogits\n",
    ")\n",
    "\n",
    "%load_ext autoreload\n",
    "%autoreload 2\n",
    "%matplotlib inline\n",
    "\n",
    "plt.rcParams['figure.figsize'] = (10.0, 8.0) # set default size of plots\n",
    "plt.rcParams['image.interpolation'] = 'nearest'\n",
    "plt.rcParams['image.cmap'] = 'gray'\n",
    "os.environ['KMP_DUPLICATE_LIB_OK']='True' # To prevent the kernel from dying."
   ]
  },
  {
   "attachments": {},
   "cell_type": "markdown",
   "metadata": {
    "id": "tRdaBwnMN5ea"
   },
   "source": [
    "# 1. Quick recap (and some new things)"
   ]
  },
  {
   "attachments": {},
   "cell_type": "markdown",
   "metadata": {
    "id": "zsNrBTkyN5eb"
   },
   "source": [
    "Until now, in the previous exercises, we focused on building and understanding all the necessary modules for training a simple model. We followed the Pytorch implementations closely, as this is the framework we will use later and we wanted you to have a smoother transition to its APIs. \n",
    "\n",
    "In the figure below you can see the main components in Pytorch. Let's start with a quick recap of **our implementation** of these components. \n",
    "\n",
    "<div class=\"alert alert-success\">\n",
    "    <h3>Task: Check Code</h3>\n",
    "    <p>Everything is already implemented for this part, but we <b>strongly</b> encourage you to check  the respective source files in order to have a better understanding. </p>\n",
    "</div>"
   ]
  },
  {
   "attachments": {},
   "cell_type": "markdown",
   "metadata": {
    "id": "reTr9-VRN5ec"
   },
   "source": [
    "<img src=\"https://cdn-images-1.medium.com/max/800/1*uZrS4KjAuSJQIJPgOiaJUg.png\" style=\"width: 500px;\">"
   ]
  },
  {
   "attachments": {},
   "cell_type": "markdown",
   "metadata": {
    "id": "4fZoL6hvN5ec"
   },
   "source": [
    "## 1.1 Dataset and Dataloader"
   ]
  },
  {
   "attachments": {},
   "cell_type": "markdown",
   "metadata": {
    "id": "jvv1QqmJN5ed"
   },
   "source": [
    "Data preparation is an important part of deep learning projects. Because the data can come in different formats and from different sources, it must be prepared in a certain way, which depends on the application. One part, however, is uniform: since an entire dataset is usually too large to handle at once, we train our models on smaller batches of data. \n",
    "\n",
    "The goal of the ```Dataset``` class is to encapsulate all the 'dirty' data processing: loading and cleaning the data, storing features (or names of files where features can be found) and labels, as well as providing the means for accessing individual (transformed) items of the data using the ```__getitem__()``` function and an index. You already implemented an ```ImageFolderDataset``` (in ```exercise_code/data/image_folder_dataset.py```) class in Exercise 3. We we will reuse this class here.\n",
    "\n",
    "For processing the data, you implemented several transforms in Exercise 3 (```RescaleTransform```, ```NormalizeTransform```, ```ComposeTransform```). In this exercise we are working with images, which are multidimensional arrays, but we are using a simple feedforward neural network which takes an one dimensional array as an input, so it is necessary to reshape the images before feeding them into the model. \n",
    "\n",
    "<div class=\"alert alert-success\">\n",
    "    <h3>Task: Check Code</h3>\n",
    "    <p>Please check the implementation of the reshape operation in the <code>FlattenTransform</code> class, which can be found in <code>../exercise_06/exercise_code/data/image_folder_dataset.py</code>. </p>\n",
    "</div>"
   ]
  },
  {
   "cell_type": "code",
   "execution_count": 12,
   "metadata": {},
   "outputs": [],
   "source": [
    "download_url = \"https://i2dl.vc.in.tum.de/static/data/cifar10.zip\"\n",
    "i2dl_exercises_path = os.path.dirname(os.path.abspath(os.getcwd()))\n",
    "cifar_root = os.path.join(i2dl_exercises_path, \"datasets\", \"cifar10\")"
   ]
  },
  {
   "attachments": {},
   "cell_type": "markdown",
   "metadata": {},
   "source": [
    "## The usual memory vs local data warning\n",
    "If you are using google colab or store your files on a local HDD, iterating over dataset takes quite some time and blablabla. You know the drill by now ;).\n",
    "\n",
    "<div class=\"alert alert-danger\">\n",
    "    <h3>Warning</h3>\n",
    "    <p>Loading the whole dataset into memory will not work if you are using a machine with 4GB of RAM or less (depending on your other programs such as memory hungry web browsers). Consider closing some open programs or simply use the local on-demand ImageFolderDataset.</p>\n",
    "    <p>In addition we want to warn you that everytime you execute a cell like \"dataset2 = MemoryImageFolderDataset...\" you are loading a 1.2GB matrix into your memory. If you do this often enough this notebook will crash on every machine. Therefore, we make sure to always use a single variable \"dataset\" which will be overwritten by future cells to avoid straining your memory too much.</p>\n",
    "</div>"
   ]
  },
  {
   "cell_type": "code",
   "execution_count": 14,
   "metadata": {},
   "outputs": [],
   "source": [
    "# Choose your preferred dataset here\n",
    "\n",
    "# DATASET = ImageFolderDataset\n",
    "DATASET = MemoryImageFolderDataset"
   ]
  },
  {
   "attachments": {},
   "cell_type": "markdown",
   "metadata": {},
   "source": [
    "Now that this has been taken care of, back to the actual loading."
   ]
  },
  {
   "cell_type": "code",
   "execution_count": 16,
   "metadata": {
    "id": "2fHY8xTPN5ee"
   },
   "outputs": [
    {
     "name": "stdout",
     "output_type": "stream",
     "text": [
      "30000\n",
      "10000\n",
      "10000\n"
     ]
    }
   ],
   "source": [
    "# Use the Cifar10 mean and standard deviation computed in Exercise 3.\n",
    "cifar_mean = np.array([0.49191375, 0.48235852, 0.44673872])\n",
    "cifar_std  = np.array([0.24706447, 0.24346213, 0.26147554])\n",
    "\n",
    "# Define all the transforms we will apply on the images when \n",
    "# retrieving them.\n",
    "rescale_transform = RescaleTransform()\n",
    "normalize_transform = NormalizeTransform(\n",
    "    mean=cifar_mean,\n",
    "    std=cifar_std\n",
    ")\n",
    "flatten_transform = FlattenTransform()\n",
    "compose_transform = ComposeTransform([rescale_transform, \n",
    "                                      normalize_transform,\n",
    "                                      flatten_transform])\n",
    "\n",
    "# Create a train, validation and test dataset.\n",
    "datasets = {}\n",
    "for mode in ['train', 'val', 'test']:\n",
    "    crt_dataset = DATASET(\n",
    "        mode=mode,\n",
    "        root=cifar_root, \n",
    "        transform=compose_transform,\n",
    "        split={'train': 0.6, 'val': 0.2, 'test': 0.2}\n",
    "    )\n",
    "    datasets[mode] = crt_dataset\n",
    "    print(len(crt_dataset))"
   ]
  },
  {
   "attachments": {},
   "cell_type": "markdown",
   "metadata": {
    "id": "FsR4dM2kN5ee"
   },
   "source": [
    "Then, based on this ```Dataset``` object, we can construct a ```Dataloader``` object which samples a random mini-batch of data at once. "
   ]
  },
  {
   "cell_type": "code",
   "execution_count": 18,
   "metadata": {
    "id": "3t4Xj_n3N5ef"
   },
   "outputs": [],
   "source": [
    "# Create a dataloader for each split.\n",
    "dataloaders = {}\n",
    "for mode in ['train', 'val', 'test']:\n",
    "    crt_dataloader = DataLoader(\n",
    "        dataset=datasets[mode],\n",
    "        batch_size=256,\n",
    "        shuffle=True,\n",
    "        drop_last=True,\n",
    "    )\n",
    "    dataloaders[mode] = crt_dataloader"
   ]
  },
  {
   "attachments": {},
   "cell_type": "markdown",
   "metadata": {
    "id": "CpruSFLkN5ef"
   },
   "source": [
    "Because the ```Dataloader``` has the ```__iter__()``` method, we can simply iterate through the batches it produces, like this:\n",
    "\n",
    "```python\n",
    "for batch in dataloader['train']:\n",
    "    do_something(batch)\n",
    "```"
   ]
  },
  {
   "attachments": {},
   "cell_type": "markdown",
   "metadata": {
    "id": "L81EGyslN5eg"
   },
   "source": [
    "## 1.2 Data Augmentation\n",
    "\n",
    "After the preprocessing steps, our data is in a good shape and ready to be fed into our network. As explained in the chapter above, we used the transformation functions `RescaleTransform`, `NormalizeTransform` and `FlattenTransform` to achieve this shape. These are the general steps that you need to perform on the data before you can start training. Of course, all these steps have to be applied to our three dataset splits (train, val and test split). In other words, preprocessing involves preparing the data before it can be used for training and inference. \n",
    "\n",
    "Besides these basic transformations, there are many other transformation methods that you can apply to the images. For example, you can <b>flip the images horizontally</b> or <b>blur the images</b> and use these new images to enlarge the dataset. This idea is called Data Augmentation and it involves methods that alter the training images to generate a synthetic dataset that is larger than your original dataset. This will hopefully improve the performance of your model. There is one important difference between data augmentation and data preprocessing: The transformation methods used to enlarge your dataset should only be applied to the training data. The validation and test data should not be affected by these methods.\n",
    "\n",
    "<div class=\"alert alert-success\">\n",
    "    <h3>Task: Check Code</h3>\n",
    "    <p>The choice of transformation methods for data augmentation can be seen as a hyperparameter of your model. You can try to include these to enlarge your training data and obtain better results for your model. In <code>exercise_code/data/image_folder_dataset.py</code> we implemented the function <code>RandomHorizontalFlip</code> for you, which is randomly flipping an image horizontally. Check out the implementation.</p>\n",
    "    <p> Later, we will perform hyperparameter tuning. In order to improve your model's performance, you can include some other data augmentation methods. Feel free to play around and to implement other methods as for example Gaussian Blur or Rotation. </p>       \n",
    "</div>\n",
    "\n",
    "Let us quickly check the `RandomHorizontalFlip` method with an image of the Cifar10 dataset in the following cell."
   ]
  },
  {
   "cell_type": "code",
   "execution_count": 21,
   "metadata": {
    "colab": {
     "base_uri": "https://localhost:8080/",
     "height": 98
    },
    "executionInfo": {
     "elapsed": 962,
     "status": "ok",
     "timestamp": 1650011739465,
     "user": {
      "displayName": "Weber Anna",
      "userId": "18154618360144454414"
     },
     "user_tz": -120
    },
    "id": "3BEjmTGHN5eg",
    "outputId": "a6adee5b-1dd4-436c-e811-952f4ae12e5f"
   },
   "outputs": [
    {
     "data": {
      "image/png": "[encoded data removed]",
      "text/plain": [
       "<Figure size 200x200 with 2 Axes>"
      ]
     },
     "metadata": {},
     "output_type": "display_data"
    }
   ],
   "source": [
    "#Load the data in a dataset without any transformation \n",
    "dataset = DATASET(\n",
    "        mode=mode,\n",
    "        root=cifar_root, \n",
    "        download_url=download_url,\n",
    "        split={'train': 0.6, 'val': 0.2, 'test': 0.2},\n",
    "    )\n",
    "\n",
    "#Retrieve an image from the dataset and flip it\n",
    "image = dataset[1]['image']\n",
    "transform = RandomHorizontalFlip(1)\n",
    "image_flipped = transform(image)\n",
    "\n",
    "#Show the two images\n",
    "plt.figure(figsize = (2,2))\n",
    "plt.subplot(1, 2, 1)\n",
    "plt.imshow(image.astype('uint8'))\n",
    "plt.axis('off')\n",
    "plt.subplot(1, 2, 2)\n",
    "plt.imshow(image_flipped.astype('uint8'))\n",
    "plt.axis('off')\n",
    "plt.title(\"Left: Original Image, Right: Flipped image\")\n",
    "plt.show()"
   ]
  },
  {
   "attachments": {},
   "cell_type": "markdown",
   "metadata": {
    "id": "WKNRU4BWN5eg"
   },
   "source": [
    "## 1.3 Layers\n",
    "\n",
    "Now, that the data is prepared, we can take a look at the model we are using. In our case it will be a neural network. \n",
    "\n",
    "In Exercise 5, you implemented a simple 2-layer neural network that had a hidden size as a parameter:\n",
    "\n",
    "$$ \n",
    "{\\hat{y}} = \\sigma(\\sigma({x W_1} + {b_1}) {W_2} + {b_2}) \n",
    "$$\n",
    "\n",
    "where $ \\sigma({x}) $ was the sigmoid function, $ {x} $ was the input, $ {W_1}, {W_2} $ the weight matrices and $ {b_1}, {b_2}$ the biases for the two layers.\n",
    "\n",
    "This is how we used this network:"
   ]
  },
  {
   "cell_type": "code",
   "execution_count": 23,
   "metadata": {
    "id": "6zta7tzkN5eg"
   },
   "outputs": [],
   "source": [
    "input_size = datasets['train'][0]['image'].shape[0]\n",
    "model = ClassificationNet(input_size=input_size, \n",
    "                          hidden_size=512)"
   ]
  },
  {
   "attachments": {},
   "cell_type": "markdown",
   "metadata": {
    "id": "UpAoXE7nN5eh"
   },
   "source": [
    "Note that we updated the ```ClassificationNet``` from the previous exercise. Now you can customize the number of outputs, the choice of activation function, the hidden size etc. We encourage you to check the implementation in ```exercise_code/networks/classification_net.py``` "
   ]
  },
  {
   "cell_type": "code",
   "execution_count": 25,
   "metadata": {
    "id": "7wzEaw66N5eh"
   },
   "outputs": [],
   "source": [
    "num_layer = 2\n",
    "reg = 1e-6\n",
    "\n",
    "model = ClassificationNet(activation=Relu, \n",
    "                          num_layer=num_layer, \n",
    "                          reg=reg,\n",
    "                          num_classes=10)"
   ]
  },
  {
   "attachments": {},
   "cell_type": "markdown",
   "metadata": {
    "id": "x70gjgkDN5eh"
   },
   "source": [
    "Performing the forward and backward passes through the model was quite simple:\n",
    "\n",
    "```python\n",
    "\n",
    "# X is a batch of training features \n",
    "# X.shape = (batch_size, features_size)\n",
    "y_out = model.forward(X)\n",
    "\n",
    "# dout is the gradient of the loss function w.r.t the output of the network.\n",
    "# dout.shape = (batch_size, )\n",
    "model.backward(dout)\n",
    "```"
   ]
  },
  {
   "attachments": {},
   "cell_type": "markdown",
   "metadata": {
    "id": "dlwNcT2RN5eh"
   },
   "source": [
    "Just as the learning rate or the number of epochs we want to train for, the number of hidden layers and the number of units in each hidden layer are also hyperparameters that we can tune. In this notebook you can play with networks of different sizes to see the impact that the network capacity has.\n",
    "\n",
    "Before we move on to the loss functions, let's have a look at the activation functions. The choice of an activation function can have a huge impact on the performance of the network you are designing. So far, you have implemented the `Sigmoid` and the `Relu` activation functions in Exercise 5. \n",
    "\n",
    "<div class=\"alert alert-success\">\n",
    "    <h3>Task: Check Code</h3>\n",
    "    <p>Take a look at the <code>Sigmoid</code> and the <code>Relu</code> class in <code>exercise_code/networks/layer.py</code> and the implementation of the respective forward and backward passes. Make sure to understand why we used <b>element-wise product</b> instead of dot product in the backward pass of the <code>Sigmoid</code> class to compute the gradient <code>dx</code>. That will be helpful for your later implementation of other activation functions.</p>\n",
    "    <p> <b>Note:</b> The <code>cache</code> variable is used to store information from the forward pass and then pass this information in the backward pass to make use of it there. The implementation of both classes shows that this variable can be used differently - depending on which information is needed in the backward pass. </p>\n",
    "</div>\n",
    "\n",
    "Now, we want to have a look at two other, very common activation functions that you have already seen in the lecture: Leaky ReLU activation function and Tanh activation function. \n",
    "\n",
    "**Leaky Relus** are one attempt to fix the “dying ReLU” problem. Instead of the function being zero when $ x < 0 $, a leaky ReLU has a small negative slope (for example, 0.01).  The function computes $f(x) = \\mathbb{1}(x < 0) (\\alpha x) + \\mathbb{1}(x>=0) (x)$ where $\\alpha$ is a small constant. Some people report success with this form of activation function, but the results are not always consistent.\n",
    "\n",
    "The **tanh non-linearity** squashes a real-valued number into the range [-1, 1]. Like the sigmoid neuron, its activations saturate, but unlike the sigmoid neuron its output is zero-centered. Therefore, in practice the tanh non-linearity is always preferred to the sigmoid non-linearity. Also note that the tanh neuron is simply a scaled sigmoid neuron, in particular the following holds: $\\tanh(x) = 2 \\cdot \\sigma(2x) -1$.\n",
    "\n",
    "<img class=left src=https://pytorch.org/docs/stable/_images/LeakyReLU.png alt=\"Figure3\" width=\"350\" align='left'/> \n",
    "<img class=right src=https://pytorch.org/docs/stable/_images/Tanh.png alt=\"Figure4\" width=\"350\"/>\n",
    "\n",
    "<div class=\"alert alert-info\">\n",
    "    <h3>Task: Implement Activation Layers</h3>\n",
    "    <p> Now, it is your turn to implement the <code>LeakyRelu</code> and the <code>Tanh</code> class in <code>exercise_code/networks/layer.py</code> by completing the <code>forward</code> and the <code>backward</code> functions. You can test your implementation in the following two cells. </p>\n",
    "    <p> <b>Note:</b> Always remember to return a cache in <code>forward</code> for later backpropagation in <code>backward</code>. As we have seen above, the <code>cache</code> variable can be used differently for two activation functions.</p>\n",
    "</div>\n",
    "\n",
    "Use this cell to test your implementation of the `LeakyRelu` class:"
   ]
  },
  {
   "cell_type": "code",
   "execution_count": 28,
   "metadata": {
    "colab": {
     "base_uri": "https://localhost:8080/"
    },
    "executionInfo": {
     "elapsed": 854,
     "status": "ok",
     "timestamp": 1650011740634,
     "user": {
      "displayName": "Weber Anna",
      "userId": "18154618360144454414"
     },
     "user_tz": -120
    },
    "id": "v0LYvwHmN5ei",
    "outputId": "e124210f-f387-45b4-cd23-b0444c894b10"
   },
   "outputs": [
    {
     "name": "stdout",
     "output_type": "stream",
     "text": [
      "\n",
      "####### Testing \u001b[96mLeakyReluTest\u001b[0m Started #######\n",
      "\n",
      "Test LeakyReluForwardTest: \u001b[92mpassed!\u001b[0m\n",
      "Test LeakyReluBackwardTest: \u001b[92mpassed!\u001b[0m\n",
      "\n",
      "####### Testing \u001b[96mLeakyReluTest\u001b[0m Finished #######\n",
      "Test LeakyReluTest: \u001b[92mpassed!\u001b[0m -->  Tests passed: \u001b[92m2\u001b[0m/\u001b[92m2\u001b[0m\n",
      "Score: \u001b[92m100\u001b[0m/\u001b[92m100\u001b[0m\n"
     ]
    }
   ],
   "source": [
    "from exercise_code.tests.layer_tests import *\n",
    "LeakyReluTestWrapper()()"
   ]
  },
  {
   "attachments": {},
   "cell_type": "markdown",
   "metadata": {
    "id": "kOkiYhe_N5ei"
   },
   "source": [
    "And this cell to test your implementation of the `Tanh` class:"
   ]
  },
  {
   "cell_type": "code",
   "execution_count": 30,
   "metadata": {
    "colab": {
     "base_uri": "https://localhost:8080/"
    },
    "executionInfo": {
     "elapsed": 11,
     "status": "ok",
     "timestamp": 1650011740635,
     "user": {
      "displayName": "Weber Anna",
      "userId": "18154618360144454414"
     },
     "user_tz": -120
    },
    "id": "Do-AHImrN5ei",
    "outputId": "b4c5a743-2ae6-4700-e052-4c9c4a220d08"
   },
   "outputs": [
    {
     "name": "stdout",
     "output_type": "stream",
     "text": [
      "\n",
      "####### Testing \u001b[96mTanhTest\u001b[0m Started #######\n",
      "\n",
      "Test TanhForwardTest: \u001b[92mpassed!\u001b[0m\n",
      "Test TanhBackwardTest: \u001b[92mpassed!\u001b[0m\n",
      "\n",
      "####### Testing \u001b[96mTanhTest\u001b[0m Finished #######\n",
      "Test TanhTest: \u001b[92mpassed!\u001b[0m -->  Tests passed: \u001b[92m2\u001b[0m/\u001b[92m2\u001b[0m\n",
      "Score: \u001b[92m100\u001b[0m/\u001b[92m100\u001b[0m\n"
     ]
    }
   ],
   "source": [
    "TanhTestWrapper()()"
   ]
  },
  {
   "attachments": {},
   "cell_type": "markdown",
   "metadata": {
    "id": "Mw_iJW4dN5ej"
   },
   "source": [
    "Congratulations, you implemented four different activation functions! These activation layers are now ready to be used when you start building your own network."
   ]
  },
  {
   "attachments": {},
   "cell_type": "markdown",
   "metadata": {
    "id": "3MhxqP2LN5ej"
   },
   "source": [
    "## 1.4 Loss\n",
    "\n",
    "In order to measure how well a network is performing, we implemented several ```Loss``` classes (```L1```, ```MSE```, ```BCE```, each preferred for a certain type of problems) in ```exercise_code/networks/loss.py```.\n",
    "\n",
    "Each contains a ```forward()``` method, which outputs a number we can use as a measure for our network's performance. \n",
    "\n",
    "Since our goal is to change the weights of the network in a way that this loss measure decreases, we are also interested in the gradients of the loss w.r.t the outputs of the network, $ \\nabla_{\\hat{y}} L({\\hat{y}}, {y}) $. This was implemented in ```backward()```. \n",
    "\n",
    "In previous exercises, we worked on binary classification problems and therefore used binary cross entropy (```BCE```) as a loss function.\n",
    "\n",
    "$$ BCE(\\hat{y}, y) = - \\frac{1}{N} \\sum_{i=1}^N \\Big(y_i \\log(\\hat{y_i}) + (1-y_i) \\log(1 - \\hat{y_i}) \\Big) $$ \n",
    "\n",
    "where\n",
    "- $ N $ was the number of samples we were considering\n",
    "- $\\hat{y}_i$ was the network's prediction for sample $i$. Note that this was a valid probability $\\in [0, 1]$, because we applied a [sigmoid](https://en.wikipedia.org/wiki/Sigmoid_function) activation on the last layer. \n",
    "- $ y_i $ was the ground truth label (0 or 1, depending on the class)\n",
    "\n",
    "Since we have 10 classes in the CIFAR10 dataset, we need a generalization of the binary cross entropy loss to multiple classes. This generalization is called the cross entropy loss and is defined as:\n",
    "$$ CE(\\hat{y}, y) = - \\frac{1}{N} \\sum_{i=1}^N \\sum_{k=1}^{C} \\Big(y_{ik} \\log(\\hat{y}_{ik}) \\Big) $$\n",
    "\n",
    "where:\n",
    "- $ N $ is the number of samples\n",
    "- $ C $ is the number of classes\n",
    "- $ \\hat{y}_{ik} $ is the probability that the model assigns for the $k$ th class when the $i$ th sample is the input. **Because we don't apply any activation function on the last layer of our network, its outputs for each sample will not be a valid probability distribution over the classes. We call these raw outputs of the network '[logits](https://datascience.stackexchange.com/questions/31041/what-does-logits-in-machine-learning-mean/31045)' and we will apply a [softmax](https://en.wikipedia.org/wiki/Softmax_function) activation in order to obtain a valid probability distribution.** \n",
    "- $y_{ik} = 1 $ iff the true label of the $i$ th sample is $k$ and 0 otherwise. This is called a [one-hot encoding](https://machinelearningmastery.com/why-one-hot-encode-data-in-machine-learning/).\n",
    "\n",
    "You can check for yourself that if the number of classes $ C $ is 2, the binary cross entropy is actually equivalent to the cross entropy.\n",
    "\n",
    "<div class=\"alert alert-success\">\n",
    "    <h3>Task: Check Code</h3>\n",
    "    <p>Please check the implementation of the <code>CrossEntropyFromLogits</code> class, which can be found in <code>../exercise_06/exercise_code/networks/loss.py</code>. </p>\n",
    "</div>"
   ]
  },
  {
   "cell_type": "code",
   "execution_count": 33,
   "metadata": {
    "id": "EBPuFF0BN5ej"
   },
   "outputs": [],
   "source": [
    "loss = CrossEntropyFromLogits"
   ]
  },
  {
   "attachments": {},
   "cell_type": "markdown",
   "metadata": {
    "id": "y1HcQs25N5ek"
   },
   "source": [
    "We can simply get the results of the forward and backward passes as follows:"
   ]
  },
  {
   "attachments": {},
   "cell_type": "markdown",
   "metadata": {
    "id": "Jv2aujOvN5ek"
   },
   "source": [
    "```python\n",
    "# y_out is the output of the neural network\n",
    "# y_truth is the actual label from the dataset\n",
    "loss.forward(y_out, y_truth)\n",
    "loss.backward(y_out, y_truth)\n",
    "```"
   ]
  },
  {
   "attachments": {},
   "cell_type": "markdown",
   "metadata": {
    "id": "dbFSP4z9N5ek"
   },
   "source": [
    "## 1.5 Optimizer\n",
    "\n",
    "Now that we know the gradient of the loss w.r.t the ouputs of the network, as well as the local gradient for each layer of the network, we can use the chain rule to compute all gradients. \n",
    "\n",
    "<div class=\"alert alert-success\">\n",
    "    <h3>Task: Check Code</h3>\n",
    "    <p>We implemented several optimizer classes <code>SGD</code>, <code>Adam</code>, <code>sgd_momentum</code> that use different first-order parameter update rules. Those can be found in <code>../exercise_06/exercise_code/networks/optimizer.py</code>. </p>\n",
    "    <p>The <code>step()</code> method used, iterates through all the parameters of the model and updates them using the gradient information.</p>\n",
    "</div>\n",
    "\n",
    "What the optimizer is doing, in pseudocode, is the following:\n",
    "\n",
    "```python\n",
    "for param in model:\n",
    "    # Use the gradient to update the weights.\n",
    "    update(param)\n",
    "    \n",
    "    # Reset the gradient after each update.\n",
    "    param.gradient = 0\n",
    "```\n",
    "\n",
    "```SGD``` had the simplest update rule:\n",
    "```python\n",
    "def update(param):\n",
    "    param = param - learning_rate * param.gradient\n",
    "```\n",
    "\n",
    "For the more complicated update rules, see ```exercise_code/networks/optimizer.py```"
   ]
  },
  {
   "attachments": {},
   "cell_type": "markdown",
   "metadata": {
    "id": "0TE2PxMBN5ek"
   },
   "source": [
    "## 1.6 Solver\n",
    "\n",
    "The ```Solver``` is where all the above elements come together: Given a train and a validation dataloader, a model, a loss and an optimizer, it uses the training data to optimize a model in order to get better predictions. We simply call ```train()``` and it does its 'magic' for us!\n",
    "```python\n",
    "solver = Solver(model, \n",
    "                dataloaders['train'], \n",
    "                dataloaders['val'], \n",
    "                learning_rate=0.001, \n",
    "                loss_func=MSE(), \n",
    "                optimizer=SGD)\n",
    "\n",
    "solver.train(epochs=epochs)\n",
    "```\n",
    "\n",
    "<div class=\"alert alert-success\">\n",
    "    <h3>Task: Check Code</h3>\n",
    "    <p>Please check out the implementation of <code>train()</code> in <code>../exercise_06/exercise_code/solver.py</code>. </p>\n",
    "</div>"
   ]
  },
  {
   "attachments": {},
   "cell_type": "markdown",
   "metadata": {
    "id": "QUFotyERN5ek"
   },
   "source": [
    "## 1.7 Weight Regularization\n",
    "\n",
    "Before finishing the recap, we want to take a look at some regularization methods that have been introduced in the lecture. Those can be helpful to improve the robustness of our model. In this chapter, we're talking about weight regularization methods.\n",
    "\n",
    "Weight regularization (a.k.a \"Weight Decay\") has been introduced to you as a method preventing the model from overfitting to the training data. \n",
    "\n",
    "The regularization term over the weights of the network is added to the loss:\n",
    "\n",
    "$$ L^* = \\underbrace{L}_{\\text{Overall loss}} + \\underbrace{\\lambda R(\\theta)}_{\\text{Regularization loss}} $$\n",
    "\n",
    "where $\\theta$ represents **ALL** the weights of the network, $\\theta = \\{W_1, \\dots, W_n\\}$ and $R(\\theta) \\in \\mathbb{R}.$\n",
    "\n",
    "Therefore, the backward step for each weight matrix $W_k \\in  \\theta$ is: \n",
    "\n",
    "$$\\frac{\\partial L}{\\partial W_k}^* = \\underbrace{\\frac{\\partial L}{\\partial W_k}}_{\\text{Gradient}}  + \\underbrace{\\lambda \\frac{\\partial R(\\theta)}{\\partial W_k}}_{\\text{Reg. loss gradient}}$$\n",
    "\n",
    "The usage of the regularization term encodes some preferences in manipulating the weights. In the lecture, we compared two weight regularization methods and their respective preference for weight vectors. We made the following observations: \n",
    "\n",
    "1. L1 regularization: Enforces sparsity \n",
    "2. L2 regularization: Enforces that weights have similar values\n",
    "\n",
    "The most common weight regularization method is the L2 regularization. The L2 regularization prefers smaller and more diffuse weight vectors. Therefore, the model is encouraged to take all input dimensions into account rather than focusing strongly on a small number of input dimensions.\n",
    "\n",
    "When using weight regularization, the loss function is a composition of two parts:\n",
    "\n",
    "The first being the data loss, which is calculated using Cross Entropy loss in our model. The second part is called the regularization loss $R(\\theta)$ and is computed in the L2 case as follows:\n",
    "$$R(\\theta) = \\sum_{k} \\sum_{i} \\sum_{j} w_{k,i,j}^2$$\n",
    "\n",
    "Where $k$ runs over all weight matrices in the network, and $i, j$ correspond to the spatial height and width of each weight matrix $W_k$."
   ]
  },
  {
   "attachments": {},
   "cell_type": "markdown",
   "metadata": {
    "id": "DxExi4hQN5el"
   },
   "source": [
    "# 2. An overview of hyperparameters"
   ]
  },
  {
   "attachments": {},
   "cell_type": "markdown",
   "metadata": {
    "collapsed": true,
    "id": "OdQde3JEN5el",
    "jupyter": {
     "outputs_hidden": true
    }
   },
   "source": [
    "\n",
    "<img src=https://images.deepai.org/glossary-terms/05c646fe1676490aa0b8cab0732a02b2/hyperparams.png alt=hyperparameter width=700>\n",
    "\n",
    "A **hyperparameter** is a parameter that is set before the learning process begins. Recall that the parameters of the weight matrix and the bias vector are learned during the learning process.\n",
    "\n",
    "The hyperparameter settings are essential, since they control and affect the whole training and therefore have a great impact on the model's performance. \n",
    "\n",
    "Some hyperparameters we have covered in lectures are:\n",
    "* Network architecture\n",
    "    * Choice of activation function\n",
    "    * Number of layers\n",
    "    * ...\n",
    "* Learning rate\n",
    "* Number of epochs\n",
    "* Batch size\n",
    "* Regularization strength\n",
    "* Momentum\n",
    "* ..."
   ]
  },
  {
   "attachments": {},
   "cell_type": "markdown",
   "metadata": {
    "id": "Rn6g8Zw1N5el"
   },
   "source": [
    "## 2.1 Start debugging your own network!"
   ]
  },
  {
   "attachments": {},
   "cell_type": "markdown",
   "metadata": {
    "id": "hUoj3OgzN5el"
   },
   "source": [
    "As already suggested in the lectures, you should always start from small and simple architectures, to make sure you are going the right way. \n",
    "\n",
    "As a first step you should try to overfit to a single training sample, then to a few batches of training samples and finally go deeper with larger neural networks and the whole training data.\n",
    "\n",
    "We provide a default neural network (i.e. ClassificationNet) with arbitrary number of layers, which is a generalization from a fixed 2-layer neural network in exercise 5. You are welcome to implement your own network, in that case just implement **MyOwnNetwork** in ```exercise_code/networks/classification_net.py```. You can also copy things from ClassficationNet and make little adjustments to your own network. Either way, just pick one network and comment out the other one, then run the cells below for debugging.\n",
    "\n",
    "<div class=\"alert alert-warning\">\n",
    "    <h3>Note:</h3>\n",
    "    <p>Please, make sure you don't modify the ClassificationNet itself. In this way you can always have a working network to fall back on.</p>\n",
    "    <p>In order to pass this submissions, you can <b>first stick to the default ClassificationNet implementation without changing any code at all</b>. The goal of this submission is to find reasonable hyperparameters and the parameter options of the ClassificationNet are broad enough to pass.</p>\n",
    "    <p>Once you have surpassed the submission goal, you can try to implement additional activation functions in the accompanying notebook, try different weight initializations or make other adjustments by writing your own network architecture in the MyOwnNetwork class.</p>\n",
    "</div>"
   ]
  },
  {
   "attachments": {},
   "cell_type": "markdown",
   "metadata": {
    "id": "gij9DxvmN5el"
   },
   "source": [
    "First, let's start with a 2-layer neural network, and overfit to one single training sample.\n",
    "\n",
    "After training, let's evaluate the training process by plotting the loss curves."
   ]
  },
  {
   "cell_type": "code",
   "execution_count": 44,
   "metadata": {
    "colab": {
     "base_uri": "https://localhost:8080/"
    },
    "executionInfo": {
     "elapsed": 20902,
     "status": "ok",
     "timestamp": 1650011761531,
     "user": {
      "displayName": "Weber Anna",
      "userId": "18154618360144454414"
     },
     "user_tz": -120
    },
    "id": "S1k3JrlsN5el",
    "outputId": "1193ba97-9871-489f-d6a5-f21a3869f09c"
   },
   "outputs": [
    {
     "name": "stdout",
     "output_type": "stream",
     "text": [
      "(Epoch 1 / 20) train loss: 2.297071; val loss: 2.306355\n",
      "(Epoch 2 / 20) train loss: 2.182829; val loss: 2.311383\n",
      "(Epoch 3 / 20) train loss: 2.040154; val loss: 2.318081\n",
      "(Epoch 4 / 20) train loss: 1.870841; val loss: 2.326746\n",
      "(Epoch 5 / 20) train loss: 1.687636; val loss: 2.337719\n",
      "(Epoch 6 / 20) train loss: 1.504726; val loss: 2.351271\n",
      "(Epoch 7 / 20) train loss: 1.335505; val loss: 2.367585\n",
      "(Epoch 8 / 20) train loss: 1.185235; val loss: 2.386815\n",
      "(Epoch 9 / 20) train loss: 1.048617; val loss: 2.409132\n",
      "(Epoch 10 / 20) train loss: 0.922046; val loss: 2.434665\n",
      "(Epoch 11 / 20) train loss: 0.804986; val loss: 2.463446\n",
      "(Epoch 12 / 20) train loss: 0.698867; val loss: 2.495375\n",
      "(Epoch 13 / 20) train loss: 0.604541; val loss: 2.530231\n",
      "(Epoch 14 / 20) train loss: 0.521376; val loss: 2.567703\n",
      "(Epoch 15 / 20) train loss: 0.448663; val loss: 2.607401\n",
      "(Epoch 16 / 20) train loss: 0.385675; val loss: 2.648878\n",
      "(Epoch 17 / 20) train loss: 0.331568; val loss: 2.691661\n",
      "(Epoch 18 / 20) train loss: 0.285409; val loss: 2.735271\n",
      "(Epoch 19 / 20) train loss: 0.246237; val loss: 2.779255\n",
      "(Epoch 20 / 20) train loss: 0.213118; val loss: 2.823197\n"
     ]
    }
   ],
   "source": [
    "from exercise_code.solver import Solver\n",
    "from exercise_code.networks.optimizer import SGD, Adam\n",
    "from exercise_code.networks import MyOwnNetwork\n",
    "\n",
    "num_layer = 2\n",
    "epochs = 20\n",
    "reg = 1e-6\n",
    "batch_size = 4\n",
    "\n",
    "model = ClassificationNet(num_layer=num_layer, reg=reg)\n",
    "# model = MyOwnNetwork()\n",
    "\n",
    "loss = CrossEntropyFromLogits\n",
    "\n",
    "# Make a new data loader with a single training image\n",
    "overfit_dataset = DATASET(\n",
    "    mode='train',\n",
    "    root=cifar_root, \n",
    "    download_url=download_url,\n",
    "    transform=compose_transform,\n",
    "    limit_files=1\n",
    ")\n",
    "dataloaders['train_overfit_single_image'] = DataLoader(\n",
    "    dataset=overfit_dataset,\n",
    "    batch_size=batch_size,\n",
    "    shuffle=True,\n",
    "    drop_last=False,\n",
    ")\n",
    "\n",
    "\n",
    "# Decrease validation data for only debugging\n",
    "debugging_validation_dataset = DATASET(\n",
    "    mode='val',\n",
    "    root=cifar_root, \n",
    "    download_url=download_url,\n",
    "    transform=compose_transform,\n",
    "    limit_files=100\n",
    ")\n",
    "dataloaders['val_500files'] = DataLoader(\n",
    "    dataset=debugging_validation_dataset,\n",
    "    batch_size=batch_size,\n",
    "    shuffle=True,\n",
    "    drop_last=True,\n",
    ")\n",
    "\n",
    "solver = Solver(model, dataloaders['train_overfit_single_image'], dataloaders['val_500files'], \n",
    "                learning_rate=1e-3, loss_func=loss, optimizer=Adam)\n",
    "\n",
    "solver.train(epochs=epochs)"
   ]
  },
  {
   "cell_type": "code",
   "execution_count": 45,
   "metadata": {
    "colab": {
     "base_uri": "https://localhost:8080/"
    },
    "executionInfo": {
     "elapsed": 434,
     "status": "ok",
     "timestamp": 1650011761941,
     "user": {
      "displayName": "Weber Anna",
      "userId": "18154618360144454414"
     },
     "user_tz": -120
    },
    "id": "aMc51VqHN5em",
    "outputId": "730d9eb6-6b24-4411-e6b9-c165a73a7e6e"
   },
   "outputs": [
    {
     "data": {
      "image/png": "[encoded data removed]",
      "text/plain": [
       "<Figure size 1000x800 with 1 Axes>"
      ]
     },
     "metadata": {},
     "output_type": "display_data"
    }
   ],
   "source": [
    "plt.title('Loss curves')\n",
    "plt.plot(solver.train_loss_history, '-', label='train')\n",
    "plt.plot(solver.val_loss_history, '-', label='val')\n",
    "plt.legend(loc='lower right')\n",
    "plt.xlabel('Iteration')\n",
    "plt.show()"
   ]
  },
  {
   "cell_type": "code",
   "execution_count": 46,
   "metadata": {
    "colab": {
     "base_uri": "https://localhost:8080/"
    },
    "executionInfo": {
     "elapsed": 244,
     "status": "ok",
     "timestamp": 1650011762177,
     "user": {
      "displayName": "Weber Anna",
      "userId": "18154618360144454414"
     },
     "user_tz": -120
    },
    "id": "cchvV2Q_N5em",
    "outputId": "6ba579ba-58ed-43e8-f3e7-97a51018ee4b"
   },
   "outputs": [
    {
     "name": "stdout",
     "output_type": "stream",
     "text": [
      "Training accuray: 1.00000\n",
      "Validation accuray: 0.07000\n"
     ]
    }
   ],
   "source": [
    "print(\"Training accuray: %.5f\" % (solver.get_dataset_accuracy(dataloaders['train_overfit_single_image'])))\n",
    "print(\"Validation accuray: %.5f\" % (solver.get_dataset_accuracy(dataloaders['val_500files'])))"
   ]
  },
  {
   "attachments": {},
   "cell_type": "markdown",
   "metadata": {
    "id": "HeTCu8wwN5em"
   },
   "source": [
    "This time we want to overfit to a small set of training batch samples. Please observe the difference from above. "
   ]
  },
  {
   "cell_type": "code",
   "execution_count": 48,
   "metadata": {
    "colab": {
     "base_uri": "https://localhost:8080/"
    },
    "executionInfo": {
     "elapsed": 32205,
     "status": "ok",
     "timestamp": 1650011794379,
     "user": {
      "displayName": "Weber Anna",
      "userId": "18154618360144454414"
     },
     "user_tz": -120
    },
    "id": "SsIu_JaUN5em",
    "outputId": "81810746-ea3e-4a60-f3b7-dad4230c7231"
   },
   "outputs": [
    {
     "name": "stdout",
     "output_type": "stream",
     "text": [
      "(Epoch 1 / 100) train loss: 2.285654; val loss: 2.339864\n",
      "(Epoch 2 / 100) train loss: 2.184179; val loss: 2.404058\n",
      "(Epoch 3 / 100) train loss: 2.073793; val loss: 2.462862\n",
      "(Epoch 4 / 100) train loss: 1.897433; val loss: 2.519303\n",
      "(Epoch 5 / 100) train loss: 1.947012; val loss: 2.604608\n",
      "(Epoch 6 / 100) train loss: 1.825010; val loss: 2.652202\n",
      "(Epoch 7 / 100) train loss: 1.797096; val loss: 2.726142\n",
      "(Epoch 8 / 100) train loss: 1.650958; val loss: 2.821884\n",
      "(Epoch 9 / 100) train loss: 1.715406; val loss: 2.899799\n",
      "(Epoch 10 / 100) train loss: 1.778572; val loss: 2.929512\n",
      "(Epoch 11 / 100) train loss: 1.680088; val loss: 2.936305\n",
      "(Epoch 12 / 100) train loss: 1.626903; val loss: 3.065746\n",
      "(Epoch 13 / 100) train loss: 1.608086; val loss: 3.175972\n",
      "(Epoch 14 / 100) train loss: 1.668271; val loss: 3.193894\n",
      "(Epoch 15 / 100) train loss: 1.583900; val loss: 3.144835\n",
      "(Epoch 16 / 100) train loss: 1.663721; val loss: 3.157860\n",
      "(Epoch 17 / 100) train loss: 1.707083; val loss: 3.212566\n",
      "(Epoch 18 / 100) train loss: 1.645879; val loss: 3.292113\n",
      "(Epoch 19 / 100) train loss: 1.727949; val loss: 3.282400\n",
      "(Epoch 20 / 100) train loss: 1.546355; val loss: 3.294221\n",
      "(Epoch 21 / 100) train loss: 1.526541; val loss: 3.351726\n",
      "(Epoch 22 / 100) train loss: 1.633128; val loss: 3.333373\n",
      "(Epoch 23 / 100) train loss: 1.557307; val loss: 3.321494\n",
      "(Epoch 24 / 100) train loss: 1.412432; val loss: 3.384119\n",
      "(Epoch 25 / 100) train loss: 1.544772; val loss: 3.439287\n",
      "(Epoch 26 / 100) train loss: 1.629777; val loss: 3.409613\n",
      "(Epoch 27 / 100) train loss: 1.451470; val loss: 3.390785\n",
      "(Epoch 28 / 100) train loss: 1.478424; val loss: 3.368684\n",
      "(Epoch 29 / 100) train loss: 1.580490; val loss: 3.395362\n",
      "(Epoch 30 / 100) train loss: 1.468258; val loss: 3.415669\n",
      "(Epoch 31 / 100) train loss: 1.495814; val loss: 3.395274\n",
      "(Epoch 32 / 100) train loss: 1.442939; val loss: 3.400465\n",
      "(Epoch 33 / 100) train loss: 1.410726; val loss: 3.425180\n",
      "(Epoch 34 / 100) train loss: 1.393133; val loss: 3.431054\n",
      "(Epoch 35 / 100) train loss: 1.341627; val loss: 3.431287\n",
      "(Epoch 36 / 100) train loss: 1.320291; val loss: 3.432498\n",
      "(Epoch 37 / 100) train loss: 1.278979; val loss: 3.449951\n",
      "(Epoch 38 / 100) train loss: 1.331402; val loss: 3.460398\n",
      "(Epoch 39 / 100) train loss: 1.252910; val loss: 3.493269\n",
      "(Epoch 40 / 100) train loss: 1.359044; val loss: 3.467955\n",
      "(Epoch 41 / 100) train loss: 1.396846; val loss: 3.424090\n",
      "(Epoch 42 / 100) train loss: 1.294898; val loss: 3.481334\n",
      "(Epoch 43 / 100) train loss: 1.267907; val loss: 3.530805\n",
      "(Epoch 44 / 100) train loss: 1.342296; val loss: 3.501542\n",
      "(Epoch 45 / 100) train loss: 1.275055; val loss: 3.496119\n",
      "(Epoch 46 / 100) train loss: 1.303685; val loss: 3.506314\n",
      "(Epoch 47 / 100) train loss: 1.174924; val loss: 3.510949\n",
      "(Epoch 48 / 100) train loss: 1.184015; val loss: 3.480063\n",
      "(Epoch 49 / 100) train loss: 1.171678; val loss: 3.464200\n",
      "(Epoch 50 / 100) train loss: 1.123684; val loss: 3.463859\n",
      "(Epoch 51 / 100) train loss: 1.256967; val loss: 3.494803\n",
      "(Epoch 52 / 100) train loss: 1.190691; val loss: 3.581557\n",
      "(Epoch 53 / 100) train loss: 1.270966; val loss: 3.630106\n",
      "(Epoch 54 / 100) train loss: 1.276279; val loss: 3.608391\n",
      "(Epoch 55 / 100) train loss: 1.158384; val loss: 3.558018\n",
      "(Epoch 56 / 100) train loss: 1.167835; val loss: 3.527753\n",
      "(Epoch 57 / 100) train loss: 1.105719; val loss: 3.534693\n",
      "(Epoch 58 / 100) train loss: 1.118713; val loss: 3.554104\n",
      "(Epoch 59 / 100) train loss: 1.146755; val loss: 3.561773\n",
      "(Epoch 60 / 100) train loss: 1.032525; val loss: 3.559286\n",
      "(Epoch 61 / 100) train loss: 1.032632; val loss: 3.533494\n",
      "(Epoch 62 / 100) train loss: 1.081893; val loss: 3.520433\n",
      "(Epoch 63 / 100) train loss: 1.002093; val loss: 3.539199\n",
      "(Epoch 64 / 100) train loss: 1.009278; val loss: 3.555585\n",
      "(Epoch 65 / 100) train loss: 1.005067; val loss: 3.551066\n",
      "(Epoch 66 / 100) train loss: 1.025556; val loss: 3.563292\n",
      "(Epoch 67 / 100) train loss: 1.018766; val loss: 3.608181\n",
      "(Epoch 68 / 100) train loss: 1.029249; val loss: 3.640321\n",
      "(Epoch 69 / 100) train loss: 1.012257; val loss: 3.621215\n",
      "(Epoch 70 / 100) train loss: 1.063621; val loss: 3.578943\n",
      "(Epoch 71 / 100) train loss: 1.074002; val loss: 3.575941\n",
      "(Epoch 72 / 100) train loss: 1.015561; val loss: 3.608953\n",
      "(Epoch 73 / 100) train loss: 0.989825; val loss: 3.623651\n",
      "(Epoch 74 / 100) train loss: 0.955146; val loss: 3.594755\n",
      "(Epoch 75 / 100) train loss: 0.955101; val loss: 3.537475\n",
      "(Epoch 76 / 100) train loss: 0.929371; val loss: 3.523151\n",
      "(Epoch 77 / 100) train loss: 0.902755; val loss: 3.543167\n",
      "(Epoch 78 / 100) train loss: 0.922729; val loss: 3.564267\n",
      "(Epoch 79 / 100) train loss: 0.901654; val loss: 3.585462\n",
      "(Epoch 80 / 100) train loss: 0.899365; val loss: 3.554451\n",
      "(Epoch 81 / 100) train loss: 0.916332; val loss: 3.569907\n",
      "(Epoch 82 / 100) train loss: 0.914208; val loss: 3.578835\n",
      "(Epoch 83 / 100) train loss: 0.970760; val loss: 3.567008\n",
      "(Epoch 84 / 100) train loss: 0.876876; val loss: 3.564520\n",
      "(Epoch 85 / 100) train loss: 0.941295; val loss: 3.571987\n",
      "(Epoch 86 / 100) train loss: 0.852770; val loss: 3.578122\n",
      "(Epoch 87 / 100) train loss: 0.911657; val loss: 3.561768\n",
      "(Epoch 88 / 100) train loss: 0.887248; val loss: 3.528751\n",
      "(Epoch 89 / 100) train loss: 0.883506; val loss: 3.549366\n",
      "(Epoch 90 / 100) train loss: 0.854375; val loss: 3.580397\n",
      "(Epoch 91 / 100) train loss: 0.864722; val loss: 3.578156\n",
      "(Epoch 92 / 100) train loss: 0.910486; val loss: 3.574541\n",
      "(Epoch 93 / 100) train loss: 0.915645; val loss: 3.629390\n",
      "(Epoch 94 / 100) train loss: 1.004421; val loss: 3.603267\n",
      "(Epoch 95 / 100) train loss: 0.891343; val loss: 3.615974\n",
      "(Epoch 96 / 100) train loss: 0.919546; val loss: 3.627531\n",
      "(Epoch 97 / 100) train loss: 0.964854; val loss: 3.612748\n",
      "(Epoch 98 / 100) train loss: 0.886305; val loss: 3.613592\n",
      "(Epoch 99 / 100) train loss: 0.834075; val loss: 3.562202\n",
      "(Epoch 100 / 100) train loss: 0.898983; val loss: 3.540259\n"
     ]
    }
   ],
   "source": [
    "from exercise_code.networks import MyOwnNetwork\n",
    "\n",
    "num_layer = 2\n",
    "epochs = 100\n",
    "reg = 0.1\n",
    "num_samples = 10\n",
    "\n",
    "model = ClassificationNet(num_layer=num_layer, reg=reg)\n",
    "# model = MyOwnNetwork()\n",
    "\n",
    "loss = CrossEntropyFromLogits\n",
    "\n",
    "# Make a new data loader with a our num_samples training image\n",
    "overfit_dataset = DATASET(\n",
    "    mode='train',\n",
    "    root=cifar_root, \n",
    "    download_url=download_url,\n",
    "    transform=compose_transform,\n",
    "    limit_files=num_samples\n",
    ")\n",
    "dataloaders['train_overfit_10samples'] = DataLoader(\n",
    "    dataset=overfit_dataset,\n",
    "    batch_size=batch_size,\n",
    "    shuffle=True,\n",
    "    drop_last=False,\n",
    ")\n",
    "\n",
    "solver = Solver(model, dataloaders['train_overfit_10samples'], dataloaders['val_500files'], \n",
    "                learning_rate=1e-3, loss_func=loss, optimizer=Adam)\n",
    "\n",
    "solver.train(epochs=epochs)"
   ]
  },
  {
   "cell_type": "code",
   "execution_count": 49,
   "metadata": {
    "colab": {
     "base_uri": "https://localhost:8080/"
    },
    "executionInfo": {
     "elapsed": 15,
     "status": "ok",
     "timestamp": 1650011794380,
     "user": {
      "displayName": "Weber Anna",
      "userId": "18154618360144454414"
     },
     "user_tz": -120
    },
    "id": "DmzTCYw_N5en",
    "outputId": "8076912f-608c-497c-e092-3da5e9e8ddcd"
   },
   "outputs": [
    {
     "data": {
      "image/png": "[encoded data removed]",
      "text/plain": [
       "<Figure size 1000x800 with 1 Axes>"
      ]
     },
     "metadata": {},
     "output_type": "display_data"
    }
   ],
   "source": [
    "plt.title('Loss curves')\n",
    "plt.plot(solver.train_loss_history, '-', label='train')\n",
    "plt.plot(solver.val_loss_history, '-', label='val')\n",
    "plt.legend(loc='lower right')\n",
    "plt.xlabel('Iteration')\n",
    "plt.show()"
   ]
  },
  {
   "cell_type": "code",
   "execution_count": 50,
   "metadata": {
    "colab": {
     "base_uri": "https://localhost:8080/"
    },
    "executionInfo": {
     "elapsed": 822,
     "status": "ok",
     "timestamp": 1650011795194,
     "user": {
      "displayName": "Weber Anna",
      "userId": "18154618360144454414"
     },
     "user_tz": -120
    },
    "id": "8H8xyMcaN5en",
    "outputId": "55c1d949-949d-414f-8a34-fa85faa9ed9b"
   },
   "outputs": [
    {
     "name": "stdout",
     "output_type": "stream",
     "text": [
      "Training accuray: 1.00000\n",
      "Validation accuray: 0.07000\n"
     ]
    }
   ],
   "source": [
    "print(\"Training accuray: %.5f\" % (solver.get_dataset_accuracy(dataloaders['train_overfit_10samples'])))\n",
    "print(\"Validation accuray: %.5f\" % (solver.get_dataset_accuracy(dataloaders['val_500files'])))"
   ]
  },
  {
   "attachments": {},
   "cell_type": "markdown",
   "metadata": {
    "id": "7PoTJskAN5en"
   },
   "source": [
    "If you're overfitting to the training data, that means the network's implementation is correct. However, as you have more samples to overfit, your accuracy will be way lower. You can increase the number of epochs above to achieve better results.\n",
    "\n",
    "Now let's try to feed all the training and validation data into the network, but this time let's set compare a 2-layer and a 5-layer network, using the same hyperparameters.\n",
    "\n",
    "<div class=\"alert alert-warning\">\n",
    "    <h3>Note:</h3>\n",
    "    <p>This may take about 1 min per epoch as the training set is quite large. For convenience, we are now only using 1000 images for training but use the full validation set.</p>\n",
    "</div>"
   ]
  },
  {
   "cell_type": "code",
   "execution_count": 52,
   "metadata": {
    "colab": {
     "background_save": true
    },
    "id": "ayhMGBUBN5en",
    "outputId": "0f77d4ee-a8c9-4ddc-e538-c1818c306acf"
   },
   "outputs": [
    {
     "name": "stdout",
     "output_type": "stream",
     "text": [
      "(Epoch 1 / 5) train loss: 2.258033; val loss: 2.152057\n",
      "(Epoch 2 / 5) train loss: 2.086578; val loss: 2.084361\n",
      "(Epoch 3 / 5) train loss: 1.977454; val loss: 2.048182\n",
      "(Epoch 4 / 5) train loss: 1.891146; val loss: 2.026482\n",
      "(Epoch 5 / 5) train loss: 1.795713; val loss: 2.028017\n"
     ]
    }
   ],
   "source": [
    "from exercise_code.networks import MyOwnNetwork\n",
    "\n",
    "num_layer = 2\n",
    "epochs = 5\n",
    "reg = 1e-4\n",
    "\n",
    "# Make a new data loader with 1000 training samples\n",
    "num_samples = 500\n",
    "overfit_dataset = DATASET(\n",
    "    mode='train',\n",
    "    root=cifar_root, \n",
    "    download_url=download_url,\n",
    "    transform=compose_transform,\n",
    "    limit_files=num_samples\n",
    ")\n",
    "dataloaders['train_small'] = DataLoader(\n",
    "    dataset=overfit_dataset,\n",
    "    batch_size=batch_size,\n",
    "    shuffle=True,\n",
    "    drop_last=False,\n",
    ")\n",
    "\n",
    "\n",
    "\n",
    "\n",
    "# Change here if you want to use the full training set\n",
    "use_full_training_set = False\n",
    "if use_full_training_set:\n",
    "    train_loader =  dataloaders['train']\n",
    "else:\n",
    "    train_loader = dataloaders['train_small']\n",
    "    \n",
    "\n",
    "model = ClassificationNet(num_layer=num_layer, reg=reg)\n",
    "# model = MyOwnNetwork()\n",
    "\n",
    "loss = CrossEntropyFromLogits\n",
    "\n",
    "solver = Solver(model, train_loader, dataloaders['val'], \n",
    "                learning_rate=1e-3, loss_func=loss, optimizer=Adam)\n",
    "\n",
    "solver.train(epochs=epochs)"
   ]
  },
  {
   "cell_type": "code",
   "execution_count": 53,
   "metadata": {
    "colab": {
     "background_save": true
    },
    "id": "3htGtgttN5en",
    "outputId": "6336d86c-13c1-40e5-9080-7aa5ed774959"
   },
   "outputs": [
    {
     "data": {
      "image/png": "[encoded data removed]",
      "text/plain": [
       "<Figure size 1000x800 with 1 Axes>"
      ]
     },
     "metadata": {},
     "output_type": "display_data"
    }
   ],
   "source": [
    "plt.title('Loss curves')\n",
    "plt.plot(solver.train_loss_history, '-', label='train')\n",
    "plt.plot(solver.val_loss_history, '-', label='val')\n",
    "plt.legend(loc='lower right')\n",
    "plt.xlabel('Iteration')\n",
    "plt.show()"
   ]
  },
  {
   "cell_type": "code",
   "execution_count": 54,
   "metadata": {
    "colab": {
     "background_save": true
    },
    "id": "oOVafQ7yN5eo",
    "outputId": "7207ecce-50aa-4e80-83ee-1d05529ab23a"
   },
   "outputs": [
    {
     "name": "stdout",
     "output_type": "stream",
     "text": [
      "Training accuray: 0.46600\n",
      "Validation accuray: 0.27815\n"
     ]
    }
   ],
   "source": [
    "print(\"Training accuray: %.5f\" % (solver.get_dataset_accuracy(train_loader)))\n",
    "print(\"Validation accuray: %.5f\" % (solver.get_dataset_accuracy(dataloaders['val'])))"
   ]
  },
  {
   "cell_type": "code",
   "execution_count": 55,
   "metadata": {
    "colab": {
     "background_save": true
    },
    "id": "vG9U5OmwN5eo",
    "outputId": "4aa8426b-eea9-4be8-bc08-6add66c4cf82"
   },
   "outputs": [
    {
     "name": "stdout",
     "output_type": "stream",
     "text": [
      "(Epoch 1 / 5) train loss: 2.315489; val loss: 2.305227\n",
      "(Epoch 2 / 5) train loss: 2.302554; val loss: 2.307221\n",
      "(Epoch 3 / 5) train loss: 2.302796; val loss: 2.305772\n",
      "(Epoch 4 / 5) train loss: 2.301402; val loss: 2.307386\n",
      "(Epoch 5 / 5) train loss: 2.301414; val loss: 2.306428\n"
     ]
    }
   ],
   "source": [
    "from exercise_code.networks import MyOwnNetwork\n",
    "\n",
    "num_layer = 5\n",
    "epochs = 5\n",
    "reg = 1e-4\n",
    "\n",
    "model = ClassificationNet(num_layer=num_layer, reg=reg)\n",
    "# model = MyOwnNetwork()\n",
    "\n",
    "# Change here if you want to use the full training set\n",
    "use_full_training_set = False\n",
    "if not use_full_training_set:\n",
    "    train_loader = dataloaders['train_small']\n",
    "else:\n",
    "    train_loader = dataloaders['train']\n",
    "\n",
    "loss = CrossEntropyFromLogits\n",
    "\n",
    "solver = Solver(model, train_loader, dataloaders['val'], \n",
    "                learning_rate=1e-3, loss_func=loss, optimizer=Adam)\n",
    "\n",
    "solver.train(epochs=epochs)"
   ]
  },
  {
   "cell_type": "code",
   "execution_count": 56,
   "metadata": {
    "colab": {
     "background_save": true
    },
    "id": "08XZk2GYN5eo",
    "outputId": "3d04c7c9-a0ce-4522-c858-e9491fca8102"
   },
   "outputs": [
    {
     "data": {
      "image/png": "[encoded data removed]",
      "text/plain": [
       "<Figure size 1000x800 with 1 Axes>"
      ]
     },
     "metadata": {},
     "output_type": "display_data"
    }
   ],
   "source": [
    "plt.title('Loss curves')\n",
    "plt.plot(solver.train_loss_history, '-', label='train')\n",
    "plt.plot(solver.val_loss_history, '-', label='val')\n",
    "plt.legend(loc='lower right')\n",
    "plt.xlabel('Iteration')\n",
    "plt.show()"
   ]
  },
  {
   "cell_type": "code",
   "execution_count": 57,
   "metadata": {
    "colab": {
     "background_save": true
    },
    "id": "7-sI0yyWN5eo",
    "outputId": "29f489a2-6899-410e-9e82-8026cb77d505"
   },
   "outputs": [
    {
     "name": "stdout",
     "output_type": "stream",
     "text": [
      "Training accuray: 0.11600\n",
      "Validation accuray: 0.09806\n"
     ]
    }
   ],
   "source": [
    "print(\"Training accuray: %.5f\" % (solver.get_dataset_accuracy(train_loader)))\n",
    "print(\"Validation accuray: %.5f\" % (solver.get_dataset_accuracy(dataloaders['val'])))"
   ]
  },
  {
   "attachments": {},
   "cell_type": "markdown",
   "metadata": {
    "id": "_nNdnSi4N5eo"
   },
   "source": [
    "As you can see from above, the same hyperparameter set can decrease the loss for a 2-layer network, but for 5-layer network, it hardly works.\n",
    "\n",
    "The steps above are already mentioned in the lectures as debugging steps before training a neural network. \n",
    "\n",
    "If you implement your own network, make sure you do the steps above before tuning the hyperparameters as below. "
   ]
  },
  {
   "attachments": {},
   "cell_type": "markdown",
   "metadata": {
    "id": "l0pZa4weN5eo"
   },
   "source": [
    "## 2.2 Difficulty in tuning hyperparameters\n",
    "Small decisions on hyperparameters count. Usually, but not always, hyperparameters cannot be learned using well known gradient based methods (such as gradient descent), which are commonly employed to learn parameters. \n",
    "\n",
    "As mentioned before, hyperparameters need to be set before training. Tuning hyperparameters is hard, because you always have to try different combinations of the hyperparameters, train the network, do the validation and pick the best one. Besides, it is not guaranteed that you'll find the best combination.\n",
    "\n",
    "Let's do some hands on learning using the hyperparameter tuning methods covered in the lectures."
   ]
  },
  {
   "attachments": {},
   "cell_type": "markdown",
   "metadata": {
    "id": "pDQl6fY6N5ep"
   },
   "source": [
    "# 3. Hyperparameter Tuning\n",
    "\n",
    "One of the main challenges in deep learning is finding the set of hyperparameters that performs best.\n",
    "\n",
    "So far, we have followed a manual approach by guessing hyperparameters, running the model, observing the result and maybe tweaking the hyperparameters based on this result. As you have probably noticed, this manual hyperparameter tuning is unstructured, inefficient and can become very tedious.\n",
    "\n",
    "\n",
    "A more systematic (and actually very simple) approach for hyperparameter tuning that you've already learned in the lecture  is implementing a **Grid Search**. \n",
    "\n",
    "\n",
    "\n",
    "## 3.1 Grid Search\n",
    "Grid search is a simple and naive, yet effective method to automate the hyperparameter tuning:\n",
    "\n",
    "* First, you define the set of parameters you want to tune, e.g. $\\{learning\\_rate, regularization\\_strength\\}$.\n",
    "\n",
    "* For each hyperparameter, you then define a set of possible values, e.g. $learning\\_rate = \\{0.0001, 0.001, 0.01, 0.1\\}$.\n",
    "\n",
    "* Then, you train a model for every possible combination of these hyperparameter values and afterwards select the combination that works best (e.g. in terms of accuracy on your validation set).\n",
    "\n",
    "<div class=\"alert alert-success\">\n",
    "    <h3>Task: Check Code</h3>\n",
    "    <p>Check out our <code>grid_search</code> implementation in <code>../exercise_6/exercise_code/hyperparameter_tuning.py</code>. We show a simple for loop implementation and a more sophisticated one for multiple inputs. </p>\n",
    "</div>\n",
    " \n",
    " <div class=\"alert alert-warning\">\n",
    "    <h3>Note:</h3>\n",
    "    <p>To keep things simple in the beginning, it'll be enough to just focus on the hyperparameters <code>learning_rate</code> and <code>regularization_strength</code> here, as in the example above.</p>\n",
    "</div>"
   ]
  },
  {
   "cell_type": "code",
   "execution_count": 61,
   "metadata": {
    "colab": {
     "background_save": true
    },
    "id": "BBW9Vl4rN5ep",
    "outputId": "39d57fd3-e250-4826-d0b6-89952b9ae73b"
   },
   "outputs": [
    {
     "name": "stdout",
     "output_type": "stream",
     "text": [
      "\n",
      "Evaluating Config #1 [of 3]:\n",
      " {'learning_rate': 0.01, 'reg': 0.0001}\n",
      "(Epoch 1 / 10) train loss: 2.530499; val loss: 2.354644\n",
      "(Epoch 2 / 10) train loss: 2.533926; val loss: 2.555475\n",
      "(Epoch 3 / 10) train loss: 2.674786; val loss: 2.732827\n",
      "(Epoch 4 / 10) train loss: 2.749019; val loss: 2.757887\n",
      "(Epoch 5 / 10) train loss: 2.866902; val loss: 3.106602\n",
      "(Epoch 6 / 10) train loss: 2.859587; val loss: 3.223060\n",
      "Stopping early at epoch 5!\n",
      "\n",
      "Evaluating Config #2 [of 3]:\n",
      " {'learning_rate': 0.001, 'reg': 0.0001}\n",
      "(Epoch 1 / 10) train loss: 2.271425; val loss: 2.166569\n",
      "(Epoch 2 / 10) train loss: 2.098826; val loss: 2.030061\n",
      "(Epoch 3 / 10) train loss: 1.974465; val loss: 1.983778\n",
      "(Epoch 4 / 10) train loss: 1.871272; val loss: 1.935068\n",
      "(Epoch 5 / 10) train loss: 1.766895; val loss: 1.933241\n",
      "(Epoch 6 / 10) train loss: 1.693158; val loss: 1.954603\n",
      "(Epoch 7 / 10) train loss: 1.592783; val loss: 1.909727\n",
      "(Epoch 8 / 10) train loss: 1.518085; val loss: 1.884159\n",
      "(Epoch 9 / 10) train loss: 1.412781; val loss: 1.992050\n",
      "(Epoch 10 / 10) train loss: 1.333606; val loss: 1.957269\n",
      "\n",
      "Evaluating Config #3 [of 3]:\n",
      " {'learning_rate': 0.0001, 'reg': 0.0001}\n",
      "(Epoch 1 / 10) train loss: 2.298609; val loss: 2.286474\n",
      "(Epoch 2 / 10) train loss: 2.271493; val loss: 2.249799\n",
      "(Epoch 3 / 10) train loss: 2.231502; val loss: 2.208557\n",
      "(Epoch 4 / 10) train loss: 2.186343; val loss: 2.166668\n",
      "(Epoch 5 / 10) train loss: 2.141681; val loss: 2.140537\n",
      "(Epoch 6 / 10) train loss: 2.101638; val loss: 2.108549\n",
      "(Epoch 7 / 10) train loss: 2.066011; val loss: 2.085156\n",
      "(Epoch 8 / 10) train loss: 2.034256; val loss: 2.066654\n",
      "(Epoch 9 / 10) train loss: 2.002687; val loss: 2.058920\n",
      "(Epoch 10 / 10) train loss: 1.972769; val loss: 2.049604\n",
      "\n",
      "Search done. Best Val Loss = 1.8841586630906955\n",
      "Best Config: {'learning_rate': 0.001, 'reg': 0.0001}\n"
     ]
    }
   ],
   "source": [
    "from exercise_code.networks import MyOwnNetwork\n",
    "\n",
    "# Specify the used network\n",
    "model_class = ClassificationNet\n",
    "\n",
    "from exercise_code import hyperparameter_tuning\n",
    "best_model, best_config, results  = hyperparameter_tuning.grid_search(\n",
    "    dataloaders['train_small'], dataloaders['val_500files'],\n",
    "    grid_search_spaces = {\n",
    "        \"learning_rate\": [1e-2, 1e-3, 1e-4], \n",
    "        \"reg\": [1e-4]\n",
    "    },\n",
    "    model_class=model_class,\n",
    "    epochs=10, patience=5)"
   ]
  },
  {
   "attachments": {},
   "cell_type": "markdown",
   "metadata": {
    "id": "5v0g7q9xN5ep"
   },
   "source": [
    "From the results of your grid search, you might already have found some hyperparameter combinations that work better than others. A common practice is to now repeat the grid search on a more narrow domain centered around the parameters that worked best. \n",
    "\n",
    "**Conclusion Grid Search**\n",
    "\n",
    "With grid search we have automated the hyperparameter tuning to a certain degree. Another advantage is, that since the trainings of the models are independent of each other, you can parallelize the grid search, by e.g. trying out different hyperparameter configurations in parallel on different machines.\n",
    "\n",
    "However, as you have probably noticed, there is one big problem with this approach: the number of possible combinations grows exponentially with the number of hyperparameters (\"curse of dimensionality\"). As we add more hyperparameters to the grid search, the search space will explode in time complexity, making this strategy unfeasible."
   ]
  },
  {
   "attachments": {},
   "cell_type": "markdown",
   "metadata": {
    "id": "m_NvhoFcN5ep"
   },
   "source": [
    "Especially when your search space contains more than 3 or 4 dimensions, it is often better to use another, similar hyperparameter tuning method that you've already learned about: random search."
   ]
  },
  {
   "attachments": {},
   "cell_type": "markdown",
   "metadata": {
    "id": "rDyeiAN1N5ep"
   },
   "source": [
    "## 3.2 Random Search\n",
    "Random search is very similar to grid search, with the only difference, that instead of providing specific values for every hyperparameter, you only define a range for each hyperparameter - then, the values are sampled randomly from the provided ranges.\n",
    "\n",
    "![alt text](https://i.stack.imgur.com/cIDuR.png \"\")\n",
    "\n",
    "The figure above illustrates the difference in the hyperparameter space exploration between grid search and random search: assume you have 2 hyperparameters with each 3 values. Running a grid search results in training $3^2=9$ different models - but in the end, you've just tired out 3 values for each parameter. For random search on the other hand, after training 9 models you'll have tried out 9 different values for each hyperparameter, which often leads much faster to good results.\n",
    "\n",
    "To get a deeper understanding of random search and why it is more efficient than grid search, you should definitely check out this paper: http://www.jmlr.org/papers/volume13/bergstra12a/bergstra12a.pdf\n",
    "\n",
    "<div class=\"alert alert-success\">\n",
    "    <h3>Task: Check Code</h3>\n",
    "    <p>Check out our <code>random_search</code> implementation in <code>../exercise_6/exercise_code/hyperparameter_tuning.py</code></p>\n",
    "</div>\n",
    "\n",
    "\n",
    "*Hint: regarding the sample space of each parameter, think about the scale for which it makes most sense to sample in. For example the learning rate is usually sampled on a logarithmic scale!*\n",
    "\n",
    "*For simplicity and speed, just use the `train_small`-dataloader!*"
   ]
  },
  {
   "cell_type": "code",
   "execution_count": 65,
   "metadata": {
    "colab": {
     "background_save": true
    },
    "id": "d64soT68N5ep",
    "outputId": "eafe47b6-33db-401e-8d4e-96573caa8048"
   },
   "outputs": [
    {
     "name": "stdout",
     "output_type": "stream",
     "text": [
      "\n",
      "Evaluating Config #1 [of 5]:\n",
      " {'learning_rate': 0.0038897714959443613, 'reg': 1.3677414824556044e-06, 'loss_func': <class 'exercise_code.networks.loss.CrossEntropyFromLogits'>, 'num_layer': 3}\n",
      "(Epoch 1 / 20) train loss: 2.302548; val loss: 2.212143\n",
      "(Epoch 2 / 20) train loss: 2.217685; val loss: 2.174448\n",
      "(Epoch 3 / 20) train loss: 2.169495; val loss: 2.161053\n",
      "(Epoch 4 / 20) train loss: 2.131424; val loss: 2.118222\n",
      "(Epoch 5 / 20) train loss: 2.097150; val loss: 2.093643\n",
      "(Epoch 6 / 20) train loss: 2.063507; val loss: 2.046828\n",
      "(Epoch 7 / 20) train loss: 2.032488; val loss: 2.071252\n",
      "(Epoch 8 / 20) train loss: 2.003455; val loss: 2.015527\n",
      "(Epoch 9 / 20) train loss: 1.966266; val loss: 2.012295\n",
      "(Epoch 10 / 20) train loss: 1.912554; val loss: 2.005102\n",
      "(Epoch 11 / 20) train loss: 1.875861; val loss: 2.086633\n",
      "(Epoch 12 / 20) train loss: 1.872667; val loss: 2.087061\n",
      "(Epoch 13 / 20) train loss: 1.835608; val loss: 2.046628\n",
      "(Epoch 14 / 20) train loss: 1.796169; val loss: 2.011730\n",
      "(Epoch 15 / 20) train loss: 1.758809; val loss: 2.050637\n",
      "Stopping early at epoch 14!\n",
      "\n",
      "Evaluating Config #2 [of 5]:\n",
      " {'learning_rate': 0.002009453855226383, 'reg': 0.0004359889684750472, 'loss_func': <class 'exercise_code.networks.loss.CrossEntropyFromLogits'>, 'num_layer': 3}\n",
      "(Epoch 1 / 20) train loss: 2.335123; val loss: 2.294880\n",
      "(Epoch 2 / 20) train loss: 2.299991; val loss: 2.261886\n",
      "(Epoch 3 / 20) train loss: 2.286410; val loss: 2.255777\n",
      "(Epoch 4 / 20) train loss: 2.254245; val loss: 2.212820\n",
      "(Epoch 5 / 20) train loss: 2.252040; val loss: 2.233870\n",
      "(Epoch 6 / 20) train loss: 2.239606; val loss: 2.187546\n",
      "(Epoch 7 / 20) train loss: 2.229913; val loss: 2.210529\n",
      "(Epoch 8 / 20) train loss: 2.231490; val loss: 2.280497\n",
      "(Epoch 9 / 20) train loss: 2.210309; val loss: 2.208987\n",
      "(Epoch 10 / 20) train loss: 2.214681; val loss: 2.225768\n",
      "(Epoch 11 / 20) train loss: 2.197910; val loss: 2.259042\n",
      "Stopping early at epoch 10!\n",
      "\n",
      "Evaluating Config #3 [of 5]:\n",
      " {'learning_rate': 0.002263936181399353, 'reg': 7.287569634337768e-05, 'loss_func': <class 'exercise_code.networks.loss.CrossEntropyFromLogits'>, 'num_layer': 3}\n",
      "(Epoch 1 / 20) train loss: 2.321976; val loss: 2.216418\n",
      "(Epoch 2 / 20) train loss: 2.233224; val loss: 2.170222\n",
      "(Epoch 3 / 20) train loss: 2.200417; val loss: 2.181818\n",
      "(Epoch 4 / 20) train loss: 2.173960; val loss: 2.179537\n",
      "(Epoch 5 / 20) train loss: 2.164114; val loss: 2.134313\n",
      "(Epoch 6 / 20) train loss: 2.140686; val loss: 2.136021\n",
      "(Epoch 7 / 20) train loss: 2.139220; val loss: 2.135359\n",
      "(Epoch 8 / 20) train loss: 2.122330; val loss: 2.134924\n",
      "(Epoch 9 / 20) train loss: 2.096098; val loss: 2.137348\n",
      "(Epoch 10 / 20) train loss: 2.083404; val loss: 2.136124\n",
      "Stopping early at epoch 9!\n",
      "\n",
      "Evaluating Config #4 [of 5]:\n",
      " {'learning_rate': 7.266372419688237e-06, 'reg': 2.7057244388037065e-06, 'loss_func': <class 'exercise_code.networks.loss.CrossEntropyFromLogits'>, 'num_layer': 3}\n",
      "(Epoch 1 / 20) train loss: 2.302660; val loss: 2.302609\n",
      "(Epoch 2 / 20) train loss: 2.302214; val loss: 2.302526\n",
      "(Epoch 3 / 20) train loss: 2.301857; val loss: 2.302503\n",
      "(Epoch 4 / 20) train loss: 2.301520; val loss: 2.302634\n",
      "(Epoch 5 / 20) train loss: 2.301064; val loss: 2.302550\n",
      "(Epoch 6 / 20) train loss: 2.300743; val loss: 2.302587\n",
      "(Epoch 7 / 20) train loss: 2.300436; val loss: 2.302597\n",
      "(Epoch 8 / 20) train loss: 2.300203; val loss: 2.302601\n",
      "Stopping early at epoch 7!\n",
      "\n",
      "Evaluating Config #5 [of 5]:\n",
      " {'learning_rate': 7.890744644365087e-05, 'reg': 4.4284639453669667e-07, 'loss_func': <class 'exercise_code.networks.loss.CrossEntropyFromLogits'>, 'num_layer': 3}\n",
      "(Epoch 1 / 20) train loss: 2.303761; val loss: 2.301299\n",
      "(Epoch 2 / 20) train loss: 2.300910; val loss: 2.302705\n",
      "(Epoch 3 / 20) train loss: 2.298983; val loss: 2.304366\n",
      "(Epoch 4 / 20) train loss: 2.298556; val loss: 2.305125\n",
      "(Epoch 5 / 20) train loss: 2.298626; val loss: 2.305263\n",
      "(Epoch 6 / 20) train loss: 2.297962; val loss: 2.306638\n",
      "Stopping early at epoch 5!\n",
      "\n",
      "Search done. Best Val Loss = 2.0051017274933494\n",
      "Best Config: {'learning_rate': 0.0038897714959443613, 'reg': 1.3677414824556044e-06, 'loss_func': <class 'exercise_code.networks.loss.CrossEntropyFromLogits'>, 'num_layer': 3}\n"
     ]
    }
   ],
   "source": [
    "from exercise_code.hyperparameter_tuning import random_search\n",
    "from exercise_code.networks import MyOwnNetwork\n",
    "\n",
    "# Specify the used network\n",
    "model_class = ClassificationNet\n",
    "\n",
    "best_model, best_config, results  = random_search(\n",
    "    dataloaders['train_small'], dataloaders['val_500files'],\n",
    "    random_search_spaces = {\n",
    "        \"learning_rate\": ([1e-2, 1e-6], 'log'),\n",
    "        \"reg\": ([1e-3, 1e-7], \"log\"),\n",
    "        \"loss_func\": ([CrossEntropyFromLogits], \"item\"),\n",
    "        \"num_layer\": ([3], \"int\"),\n",
    "    },\n",
    "    model_class=model_class,\n",
    "    num_search = 5, epochs=20, patience=5)"
   ]
  },
  {
   "attachments": {},
   "cell_type": "markdown",
   "metadata": {
    "id": "LayF5YYbN5eq"
   },
   "source": [
    "It's time to run it with the whole dataset, and let it search for a few hours for a nice configuration. \n",
    "\n",
    "However, to save some time, let's first implement an **early-stopping** mechanism, that you also already know from the lecture."
   ]
  },
  {
   "attachments": {},
   "cell_type": "markdown",
   "metadata": {
    "id": "DCaACnn3N5eq"
   },
   "source": [
    "## 3.3 Early Stopping"
   ]
  },
  {
   "attachments": {},
   "cell_type": "markdown",
   "metadata": {
    "id": "IjsO1OPLN5eq"
   },
   "source": [
    "By now you've already seen a lot of training curves:\n",
    "\n",
    "<img src=http://fouryears.eu/wp-content/uploads/2017/12/early_stopping.png></img>\n",
    "\n",
    "Usually, at some point the validation loss goes up again, which is a sign that we're overfitting to our training data. Since it actually doesn't make sense to train further at this point, it's common practice to apply \"early stopping\", i.e., cancel the training process when the validation loss doesn't improve anymore. The nice thing about this concept is, that not only it improves generalization through the prevention of overfitting, but also it saves us a lot of time - one of our most valuable resources in deep learning.\n",
    "\n",
    "Since there are natural fluctuations in the validation loss, you usually don't cancel the training process right at the first epoch when the validation-loss increases, but instead, you wait for some epochs (specified by the `patience`-parameter) and if the loss still doesn't improve, we stop.\n",
    "\n",
    "<div class=\"alert alert-success\">\n",
    "    <h3>Task: Check Code</h3>\n",
    "    <p>Please check the implementation of the early stopping mechanism in <code>../exercise_6/exercise_code/solver.py</code>.\n",
    " </p>\n",
    "</div>"
   ]
  },
  {
   "attachments": {},
   "cell_type": "markdown",
   "metadata": {
    "id": "P8wWTovfN5eq"
   },
   "source": [
    "## 3.4 Let's find the perfect model!"
   ]
  },
  {
   "attachments": {},
   "cell_type": "markdown",
   "metadata": {
    "id": "ksUYQAhgN5eq"
   },
   "source": [
    "Now you've set everything up and you are ready to train your model. You can use a combination of grid and random search to find proper hyperparameters. \n",
    "\n",
    "Be aware that this process will take some time, since we'll be using a much larger dataset.\n",
    "\n",
    "At the beginning, it is a good approach to do a coarse random search across a wide range of values to find promising sub-ranges of your parameter space. Afterwards, you can zoom into these ranges and perform another random search (or grid search) to finetune the configurations.\n",
    "\n",
    "To save time and resources, don't use the whole dataset at the beginning, but instead a medium large subset of the samples. Also, you don't have to train for a large number of epochs - as mentioned above: we first want to get an overview about our hyper parameters.\n",
    "\n",
    "<div class=\"alert alert-info\">\n",
    "    <h3>Task: Hyperparameters Tunning & Model Training </h3>\n",
    "        <p> Now, it is your turn to do the hyperparamater tuning. In the cell below, you can use the <code>random_search</code> function to find a good choice of parameters. Put in some reasonable ranges for the hyperparameters and evaluate them.\n",
    "    <p> <b>Note:</b> At the beginning, it's a good approach to first do a coarse random search across a <b> wide range of values</b> to find promising sub-ranges of your parameter space and use <b> a medium large subset of the dataset </b>. Afterwards, you can zoom into these ranges and do another random search (or grid search) to finetune the configurations. Use the cell below to play around and find good hyperparameters for your model!</p>\n",
    "        <p> Finally, once you've found some promising hyperparameters (or narrowed them down to promising subranges), it's time to utilize these hyperparameters to train your network on the whole dataset for a large number of epochs so that your own model can reach an acceptable performance. \n",
    "        <p> <b>Hint 1:</b> You may use a <code>Solver</code> class we provided before or directly use the <code>random_search</code> function (as you can also monitor the loss here) for model training.\n",
    "        <p> <b>Hint 2:</b> Be patience, this will time.\n",
    "        <p> <b>Hint 3:</b> It is a better practice to find good set of hyperparameters on the small datasets, and only then run a full training session on the full dataset, either with specifc hyperparameters that you've found in the <code>random search</code>, or better ranges.\n",
    "</div>"
   ]
  },
  {
   "cell_type": "code",
   "execution_count": 71,
   "metadata": {
    "colab": {
     "background_save": true
    },
    "id": "g2C24gzzN5eq",
    "outputId": "f9a7ca76-0471-44bc-dbb7-ac7f5d14e581"
   },
   "outputs": [
    {
     "name": "stdout",
     "output_type": "stream",
     "text": [
      "\n",
      "Evaluating Config #1 [of 10]:\n",
      " {'learning_rate': 0.0006584390704094542, 'reg': 2.3876730344403552e-05, 'loss_func': <class 'exercise_code.networks.loss.CrossEntropyFromLogits'>, 'hidden_size': 491, 'activation': <class 'exercise_code.networks.layer.Relu'>, 'optimizer': <class 'exercise_code.networks.optimizer.Adam'>, 'lr_decay': 0.934436384506475}\n",
      "(Epoch 1 / 50) train loss: 1.773881; val loss: 1.629189\n",
      "(Epoch 2 / 50) train loss: 1.522320; val loss: 1.537041\n",
      "(Epoch 3 / 50) train loss: 1.403412; val loss: 1.517155\n",
      "(Epoch 4 / 50) train loss: 1.321475; val loss: 1.488403\n",
      "(Epoch 5 / 50) train loss: 1.246627; val loss: 1.476123\n",
      "(Epoch 6 / 50) train loss: 1.179974; val loss: 1.470011\n",
      "(Epoch 7 / 50) train loss: 1.117315; val loss: 1.478054\n",
      "(Epoch 8 / 50) train loss: 1.052479; val loss: 1.443928\n",
      "(Epoch 9 / 50) train loss: 0.996446; val loss: 1.465206\n",
      "(Epoch 10 / 50) train loss: 0.940956; val loss: 1.473910\n",
      "(Epoch 11 / 50) train loss: 0.884908; val loss: 1.460448\n",
      "(Epoch 12 / 50) train loss: 0.835877; val loss: 1.462646\n",
      "(Epoch 13 / 50) train loss: 0.789172; val loss: 1.492196\n",
      "Stopping early at epoch 12!\n",
      "\n",
      "Evaluating Config #2 [of 10]:\n",
      " {'learning_rate': 0.0006584390704094542, 'reg': 2.3876730344403552e-05, 'loss_func': <class 'exercise_code.networks.loss.CrossEntropyFromLogits'>, 'hidden_size': 491, 'activation': <class 'exercise_code.networks.layer.Relu'>, 'optimizer': <class 'exercise_code.networks.optimizer.Adam'>, 'lr_decay': 0.934436384506475}\n",
      "(Epoch 1 / 50) train loss: 1.764068; val loss: 1.643838\n",
      "(Epoch 2 / 50) train loss: 1.522069; val loss: 1.537551\n",
      "(Epoch 3 / 50) train loss: 1.412081; val loss: 1.500561\n",
      "(Epoch 4 / 50) train loss: 1.323634; val loss: 1.470514\n",
      "(Epoch 5 / 50) train loss: 1.245924; val loss: 1.482542\n",
      "(Epoch 6 / 50) train loss: 1.177201; val loss: 1.456943\n",
      "(Epoch 7 / 50) train loss: 1.114619; val loss: 1.456449\n",
      "(Epoch 8 / 50) train loss: 1.051358; val loss: 1.461979\n",
      "(Epoch 9 / 50) train loss: 0.994227; val loss: 1.463554\n",
      "(Epoch 10 / 50) train loss: 0.940301; val loss: 1.471630\n",
      "(Epoch 11 / 50) train loss: 0.886932; val loss: 1.471737\n",
      "(Epoch 12 / 50) train loss: 0.838649; val loss: 1.469601\n",
      "Stopping early at epoch 11!\n",
      "\n",
      "Evaluating Config #3 [of 10]:\n",
      " {'learning_rate': 0.0006584390704094542, 'reg': 2.3876730344403552e-05, 'loss_func': <class 'exercise_code.networks.loss.CrossEntropyFromLogits'>, 'hidden_size': 491, 'activation': <class 'exercise_code.networks.layer.Relu'>, 'optimizer': <class 'exercise_code.networks.optimizer.Adam'>, 'lr_decay': 0.934436384506475}\n",
      "(Epoch 1 / 50) train loss: 1.767083; val loss: 1.638307\n",
      "(Epoch 2 / 50) train loss: 1.519723; val loss: 1.545230\n",
      "(Epoch 3 / 50) train loss: 1.404374; val loss: 1.512922\n",
      "(Epoch 4 / 50) train loss: 1.319388; val loss: 1.483279\n",
      "(Epoch 5 / 50) train loss: 1.241471; val loss: 1.463972\n",
      "(Epoch 6 / 50) train loss: 1.173007; val loss: 1.447054\n",
      "(Epoch 7 / 50) train loss: 1.108335; val loss: 1.458350\n",
      "(Epoch 8 / 50) train loss: 1.047677; val loss: 1.472391\n",
      "(Epoch 9 / 50) train loss: 0.988775; val loss: 1.457961\n",
      "(Epoch 10 / 50) train loss: 0.934814; val loss: 1.466163\n",
      "(Epoch 11 / 50) train loss: 0.882638; val loss: 1.477039\n",
      "Stopping early at epoch 10!\n",
      "\n",
      "Evaluating Config #4 [of 10]:\n",
      " {'learning_rate': 0.0006584390704094542, 'reg': 2.3876730344403552e-05, 'loss_func': <class 'exercise_code.networks.loss.CrossEntropyFromLogits'>, 'hidden_size': 491, 'activation': <class 'exercise_code.networks.layer.Relu'>, 'optimizer': <class 'exercise_code.networks.optimizer.Adam'>, 'lr_decay': 0.934436384506475}\n",
      "(Epoch 1 / 50) train loss: 1.772921; val loss: 1.637881\n",
      "(Epoch 2 / 50) train loss: 1.524675; val loss: 1.547805\n",
      "(Epoch 3 / 50) train loss: 1.408304; val loss: 1.490365\n",
      "(Epoch 4 / 50) train loss: 1.325599; val loss: 1.471795\n",
      "(Epoch 5 / 50) train loss: 1.247803; val loss: 1.467916\n",
      "(Epoch 6 / 50) train loss: 1.173091; val loss: 1.456395\n",
      "(Epoch 7 / 50) train loss: 1.114403; val loss: 1.471209\n",
      "(Epoch 8 / 50) train loss: 1.055225; val loss: 1.461714\n",
      "(Epoch 9 / 50) train loss: 0.990914; val loss: 1.446111\n",
      "(Epoch 10 / 50) train loss: 0.935878; val loss: 1.476335\n",
      "(Epoch 11 / 50) train loss: 0.883877; val loss: 1.476956\n",
      "(Epoch 12 / 50) train loss: 0.834216; val loss: 1.482414\n",
      "(Epoch 13 / 50) train loss: 0.788198; val loss: 1.486677\n",
      "(Epoch 14 / 50) train loss: 0.744504; val loss: 1.499183\n",
      "Stopping early at epoch 13!\n",
      "\n",
      "Evaluating Config #5 [of 10]:\n",
      " {'learning_rate': 0.0006584390704094542, 'reg': 2.3876730344403552e-05, 'loss_func': <class 'exercise_code.networks.loss.CrossEntropyFromLogits'>, 'hidden_size': 491, 'activation': <class 'exercise_code.networks.layer.Relu'>, 'optimizer': <class 'exercise_code.networks.optimizer.Adam'>, 'lr_decay': 0.934436384506475}\n",
      "(Epoch 1 / 50) train loss: 1.768527; val loss: 1.630838\n",
      "(Epoch 2 / 50) train loss: 1.519444; val loss: 1.542404\n",
      "(Epoch 3 / 50) train loss: 1.404398; val loss: 1.507039\n",
      "(Epoch 4 / 50) train loss: 1.320816; val loss: 1.470014\n",
      "(Epoch 5 / 50) train loss: 1.239091; val loss: 1.489960\n",
      "(Epoch 6 / 50) train loss: 1.174838; val loss: 1.458224\n",
      "(Epoch 7 / 50) train loss: 1.112891; val loss: 1.444841\n",
      "(Epoch 8 / 50) train loss: 1.048750; val loss: 1.476224\n",
      "(Epoch 9 / 50) train loss: 0.988932; val loss: 1.463366\n",
      "(Epoch 10 / 50) train loss: 0.939074; val loss: 1.467537\n",
      "(Epoch 11 / 50) train loss: 0.884948; val loss: 1.474793\n",
      "(Epoch 12 / 50) train loss: 0.834705; val loss: 1.489022\n",
      "Stopping early at epoch 11!\n",
      "\n",
      "Evaluating Config #6 [of 10]:\n",
      " {'learning_rate': 0.0006584390704094542, 'reg': 2.3876730344403552e-05, 'loss_func': <class 'exercise_code.networks.loss.CrossEntropyFromLogits'>, 'hidden_size': 491, 'activation': <class 'exercise_code.networks.layer.Relu'>, 'optimizer': <class 'exercise_code.networks.optimizer.Adam'>, 'lr_decay': 0.934436384506475}\n",
      "(Epoch 1 / 50) train loss: 1.765879; val loss: 1.635146\n",
      "(Epoch 2 / 50) train loss: 1.521197; val loss: 1.565977\n",
      "(Epoch 3 / 50) train loss: 1.409204; val loss: 1.502611\n",
      "(Epoch 4 / 50) train loss: 1.325688; val loss: 1.483400\n",
      "(Epoch 5 / 50) train loss: 1.248502; val loss: 1.469784\n",
      "(Epoch 6 / 50) train loss: 1.175795; val loss: 1.450583\n",
      "(Epoch 7 / 50) train loss: 1.108556; val loss: 1.446886\n",
      "(Epoch 8 / 50) train loss: 1.044236; val loss: 1.449822\n",
      "(Epoch 9 / 50) train loss: 0.988318; val loss: 1.459135\n",
      "(Epoch 10 / 50) train loss: 0.934779; val loss: 1.454218\n",
      "(Epoch 11 / 50) train loss: 0.878000; val loss: 1.474912\n",
      "(Epoch 12 / 50) train loss: 0.834391; val loss: 1.493092\n",
      "Stopping early at epoch 11!\n",
      "\n",
      "Evaluating Config #7 [of 10]:\n",
      " {'learning_rate': 0.0006584390704094542, 'reg': 2.3876730344403552e-05, 'loss_func': <class 'exercise_code.networks.loss.CrossEntropyFromLogits'>, 'hidden_size': 491, 'activation': <class 'exercise_code.networks.layer.Relu'>, 'optimizer': <class 'exercise_code.networks.optimizer.Adam'>, 'lr_decay': 0.934436384506475}\n",
      "(Epoch 1 / 50) train loss: 1.755411; val loss: 1.619035\n",
      "(Epoch 2 / 50) train loss: 1.514720; val loss: 1.530272\n",
      "(Epoch 3 / 50) train loss: 1.400065; val loss: 1.501902\n",
      "(Epoch 4 / 50) train loss: 1.317818; val loss: 1.467390\n",
      "(Epoch 5 / 50) train loss: 1.238203; val loss: 1.460638\n",
      "(Epoch 6 / 50) train loss: 1.173804; val loss: 1.445562\n",
      "(Epoch 7 / 50) train loss: 1.108137; val loss: 1.436858\n",
      "(Epoch 8 / 50) train loss: 1.044835; val loss: 1.469770\n",
      "(Epoch 9 / 50) train loss: 0.985454; val loss: 1.461538\n",
      "(Epoch 10 / 50) train loss: 0.932307; val loss: 1.458870\n",
      "(Epoch 11 / 50) train loss: 0.878675; val loss: 1.473102\n",
      "(Epoch 12 / 50) train loss: 0.829400; val loss: 1.498701\n",
      "Stopping early at epoch 11!\n",
      "\n",
      "Evaluating Config #8 [of 10]:\n",
      " {'learning_rate': 0.0006584390704094542, 'reg': 2.3876730344403552e-05, 'loss_func': <class 'exercise_code.networks.loss.CrossEntropyFromLogits'>, 'hidden_size': 491, 'activation': <class 'exercise_code.networks.layer.Relu'>, 'optimizer': <class 'exercise_code.networks.optimizer.Adam'>, 'lr_decay': 0.934436384506475}\n",
      "(Epoch 1 / 50) train loss: 1.767219; val loss: 1.613163\n",
      "(Epoch 2 / 50) train loss: 1.517439; val loss: 1.541219\n",
      "(Epoch 3 / 50) train loss: 1.404674; val loss: 1.494983\n",
      "(Epoch 4 / 50) train loss: 1.316289; val loss: 1.467979\n",
      "(Epoch 5 / 50) train loss: 1.236509; val loss: 1.463697\n",
      "(Epoch 6 / 50) train loss: 1.174894; val loss: 1.459568\n",
      "(Epoch 7 / 50) train loss: 1.106308; val loss: 1.440336\n",
      "(Epoch 8 / 50) train loss: 1.042520; val loss: 1.451209\n",
      "(Epoch 9 / 50) train loss: 0.986521; val loss: 1.468592\n",
      "(Epoch 10 / 50) train loss: 0.931145; val loss: 1.466069\n",
      "(Epoch 11 / 50) train loss: 0.878253; val loss: 1.483466\n",
      "(Epoch 12 / 50) train loss: 0.831605; val loss: 1.488843\n",
      "Stopping early at epoch 11!\n",
      "\n",
      "Evaluating Config #9 [of 10]:\n",
      " {'learning_rate': 0.0006584390704094542, 'reg': 2.3876730344403552e-05, 'loss_func': <class 'exercise_code.networks.loss.CrossEntropyFromLogits'>, 'hidden_size': 491, 'activation': <class 'exercise_code.networks.layer.Relu'>, 'optimizer': <class 'exercise_code.networks.optimizer.Adam'>, 'lr_decay': 0.934436384506475}\n",
      "(Epoch 1 / 50) train loss: 1.770970; val loss: 1.627188\n",
      "(Epoch 2 / 50) train loss: 1.524459; val loss: 1.556236\n",
      "(Epoch 3 / 50) train loss: 1.410959; val loss: 1.487451\n",
      "(Epoch 4 / 50) train loss: 1.322262; val loss: 1.485481\n",
      "(Epoch 5 / 50) train loss: 1.239943; val loss: 1.445490\n",
      "(Epoch 6 / 50) train loss: 1.174554; val loss: 1.470622\n",
      "(Epoch 7 / 50) train loss: 1.109856; val loss: 1.442582\n",
      "(Epoch 8 / 50) train loss: 1.048529; val loss: 1.446460\n",
      "(Epoch 9 / 50) train loss: 0.987362; val loss: 1.458161\n",
      "(Epoch 10 / 50) train loss: 0.935081; val loss: 1.457817\n",
      "(Epoch 11 / 50) train loss: 0.888120; val loss: 1.481831\n",
      "(Epoch 12 / 50) train loss: 0.833989; val loss: 1.469621\n",
      "Stopping early at epoch 11!\n",
      "\n",
      "Evaluating Config #10 [of 10]:\n",
      " {'learning_rate': 0.0006584390704094542, 'reg': 2.3876730344403552e-05, 'loss_func': <class 'exercise_code.networks.loss.CrossEntropyFromLogits'>, 'hidden_size': 491, 'activation': <class 'exercise_code.networks.layer.Relu'>, 'optimizer': <class 'exercise_code.networks.optimizer.Adam'>, 'lr_decay': 0.934436384506475}\n",
      "(Epoch 1 / 50) train loss: 1.767828; val loss: 1.639669\n",
      "(Epoch 2 / 50) train loss: 1.522452; val loss: 1.554789\n",
      "(Epoch 3 / 50) train loss: 1.408167; val loss: 1.500767\n",
      "(Epoch 4 / 50) train loss: 1.319487; val loss: 1.486910\n",
      "(Epoch 5 / 50) train loss: 1.248913; val loss: 1.445019\n",
      "(Epoch 6 / 50) train loss: 1.172404; val loss: 1.437167\n",
      "(Epoch 7 / 50) train loss: 1.111702; val loss: 1.448138\n",
      "(Epoch 8 / 50) train loss: 1.042046; val loss: 1.443245\n",
      "(Epoch 9 / 50) train loss: 0.990702; val loss: 1.454771\n",
      "(Epoch 10 / 50) train loss: 0.937361; val loss: 1.458616\n",
      "(Epoch 11 / 50) train loss: 0.884827; val loss: 1.453884\n",
      "Stopping early at epoch 10!\n",
      "\n",
      "Search done. Best Val Loss = 1.4368580900458654\n",
      "Best Config: {'learning_rate': 0.0006584390704094542, 'reg': 2.3876730344403552e-05, 'loss_func': <class 'exercise_code.networks.loss.CrossEntropyFromLogits'>, 'hidden_size': 491, 'activation': <class 'exercise_code.networks.layer.Relu'>, 'optimizer': <class 'exercise_code.networks.optimizer.Adam'>, 'lr_decay': 0.934436384506475}\n"
     ]
    }
   ],
   "source": [
    "from exercise_code.networks import MyOwnNetwork, ClassificationNet\n",
    "\n",
    "\n",
    "best_model = ClassificationNet\n",
    "#model_type = MyOwnNetwork\n",
    "\n",
    "########################################################################\n",
    "# TODO:                                                                #\n",
    "# Implement your own neural network and find suitable hyperparameters  #\n",
    "# Be sure to edit the MyOwnNetwork class in the following code snippet #\n",
    "# to upload the correct model! Or just use the given                   #\n",
    "# \"ClassificationNet\".                                                 #\n",
    "#                                                                      #\n",
    "# Note: the pickling cell expects your model to be named \"best_model\". #\n",
    "# Unless you change it there, naming the best model in any other way   #\n",
    "# will result in an unknown behavior.                                  #\n",
    "########################################################################\n",
    "#make a new data loader with 10000 training samples\n",
    "num_samples =20000\n",
    "overfit_dataset = DATASET(\n",
    "    mode='train',\n",
    "    root=cifar_root,\n",
    "    download_url=download_url,\n",
    "    transform=compose_transform,\n",
    "    limit_files=num_samples\n",
    ")\n",
    "dataloaders['train_mid']= DataLoader(\n",
    "    dataset=overfit_dataset,\n",
    "    batch_size=batch_size,\n",
    "    shuffle=True,\n",
    "    drop_last=False,\n",
    ")\n",
    "# Decrease validation data for only debugging\n",
    "validation_dataset = DATASET(\n",
    "    mode='val',\n",
    "    root=cifar_root,\n",
    "    download_url=download_url,\n",
    "    transform=compose_transform,\n",
    "    limit_files=20000\n",
    ")\n",
    "dataloaders['val_mid']= DataLoader(\n",
    "    dataset=validation_dataset,\n",
    "    batch_size=batch_size,\n",
    "    shuffle=True,\n",
    "    drop_last=True\n",
    ")\n",
    "\n",
    "best_model, best_config, results = random_search(\n",
    "    dataloaders['train'],dataloaders['val'],\n",
    "    random_search_spaces={\n",
    "    \"learning_rate\":([0.0006584390704094542], 'log'),\n",
    "    \"reg\":([2.3876730344403552e-05],\"log\"),\n",
    "    \"loss_func\":([CrossEntropyFromLogits],\"item\"),\n",
    "    \"hidden_size\":([491],\"int\"),\n",
    "    \"activation\":([Relu],\"item\"),\n",
    "    \"optimizer\":([Adam],\"item\"),\n",
    "    \"lr_decay\":([0.934436384506475],\"log\")\n",
    "},\n",
    "    model_class=best_model,\n",
    "    num_search=10, epochs=50,patience=5)\n",
    "\n",
    "########################################################################\n",
    "#                           END OF YOUR CODE                           #\n",
    "########################################################################"
   ]
  },
  {
   "attachments": {},
   "cell_type": "markdown",
   "metadata": {
    "id": "gmZbWaaIN5er"
   },
   "source": [
    "Now it's time to edit the ranges above and adjust them to explore regions that performed well!\n",
    "\n",
    "Also, feel free to experiment around. Other hyperparameters you can change are the network architecture, optimizer, activations functions and many more.\n",
    "\n",
    "Try to get an accuracy as high as possible, since that's all what counts for this submission!\n",
    "\n",
    "You'll pass if you reach at least **48%** accuracy on our test set - but there will also be a leaderboard of all students of this course. Can you make it to the top?"
   ]
  },
  {
   "attachments": {},
   "cell_type": "markdown",
   "metadata": {
    "id": "mJZ7UXHeN5er"
   },
   "source": [
    "## 3.5 Checking the validation accuracy"
   ]
  },
  {
   "cell_type": "code",
   "execution_count": 74,
   "metadata": {
    "colab": {
     "background_save": true
    },
    "id": "qPyHczNJN5er",
    "outputId": "7cbc0fbb-2d6e-49a1-d518-83e2260ea339"
   },
   "outputs": [
    {
     "name": "stdout",
     "output_type": "stream",
     "text": [
      "Train Accuracy: \u001b[92m75.4173344017094\u001b[0m%\n",
      "Validation Accuracy: \u001b[92m51.78285256410257\u001b[0m%\n"
     ]
    }
   ],
   "source": [
    "from exercise_code.tests.base_tests import bcolors\n",
    "\n",
    "labels, pred, acc = best_model.get_dataset_prediction(dataloaders['train'])\n",
    "res = bcolors.colorize(\"green\", acc * 100) if acc * 100 > 48 else bcolors.colorize(\"red\", acc * 100)\n",
    "print(\"Train Accuracy: {}%\".format(res))\n",
    "labels, pred, acc = best_model.get_dataset_prediction(dataloaders['val'])\n",
    "res = bcolors.colorize(\"green\", acc * 100) if acc * 100 > 48 else bcolors.colorize(\"red\", acc * 100)\n",
    "print(\"Validation Accuracy: {}%\".format(res))"
   ]
  },
  {
   "attachments": {},
   "cell_type": "markdown",
   "metadata": {
    "id": "MQ_AGtp8N5er"
   },
   "source": [
    "# 4. Test your model\n",
    "When you have finished the hyperparameter tuning and you found your final model which performs well on the validation set (**you should at least get 48% accuracy on the validation set!**), it's time to run your model on the test set.\n",
    "\n",
    "<div class=\"alert alert-danger\">\n",
    "    <h3>Important</h3>\n",
    "    <p>As you have learned in the lecture, you must only use the test set once! So only run the next cell if you are completely sure that your model works well enough and that you are ready to submit. Your test set is different from the test set on our server, so results may vary a bit. Nevertheless, you will get a reasonable approximation of your model's performance if you perform the final evaluation on the test set only once.</p>\n",
    "    <p>If you are an external student that can't use our submission webpage: this test performance is your final result and if you surpassed the threshold, you have completed this exercise :). Now, train again to aim for a better number!</p>\n",
    "</div>"
   ]
  },
  {
   "cell_type": "code",
   "execution_count": 76,
   "metadata": {
    "colab": {
     "background_save": true
    },
    "id": "xJ2lwiVUN5er",
    "outputId": "82f45e2a-7357-4444-d8c7-2296b7f6cb68"
   },
   "outputs": [
    {
     "name": "stdout",
     "output_type": "stream",
     "text": [
      "Test Accuracy: \u001b[92m52.093349358974365\u001b[0m%\n"
     ]
    }
   ],
   "source": [
    "# comment this part out to see your model's performance on the test set.\n",
    "labels, pred, acc = best_model.get_dataset_prediction(dataloaders['test'])\n",
    "res = bcolors.colorize(\"green\", acc * 100) if acc * 100 > 48 else bcolors.colorize(\"red\", acc * 100)\n",
    "print(\"Test Accuracy: {}%\".format(res))\n"
   ]
  },
  {
   "attachments": {},
   "cell_type": "markdown",
   "metadata": {
    "id": "K3MBnG7qN5er"
   },
   "source": [
    "<div class=\"alert alert-warning\">\n",
    "    <h3>Note:</h3>\n",
    "    <p>The \"real\" test set is actually the dataset we're using for testing your model, which is <b>different</b> from the test-set you're using here.</p>\n",
    "</div>"
   ]
  },
  {
   "attachments": {},
   "cell_type": "markdown",
   "metadata": {
    "id": "2lOy_GulN5es"
   },
   "source": [
    "# 5. Saving your Model"
   ]
  },
  {
   "cell_type": "code",
   "execution_count": 79,
   "metadata": {},
   "outputs": [],
   "source": [
    "from exercise_code.networks import MyOwnNetwork, ClassificationNet\n"
   ]
  },
  {
   "cell_type": "code",
   "execution_count": 80,
   "metadata": {
    "colab": {
     "background_save": true
    },
    "id": "icgNMAlEN5es"
   },
   "outputs": [],
   "source": [
    "#if this cell results in an error, please try restarting your kernel and rerunning the whole notebook.\n",
    "from exercise_code.tests import save_pickle\n",
    "best_model.eval()\n",
    "save_pickle({\"cifar_fcn\": best_model}, \"cifar_fcn.p\")"
   ]
  },
  {
   "cell_type": "code",
   "execution_count": 81,
   "metadata": {
    "colab": {
     "background_save": true
    },
    "id": "Gd4TchGlN5es",
    "outputId": "b913c1bd-b861-47bb-c257-b30fa214e761"
   },
   "outputs": [
    {
     "name": "stdout",
     "output_type": "stream",
     "text": [
      "relevant folders: ['exercise_code', 'models']\n",
      "notebooks files: ['1_cifar10_classification.ipynb']\n",
      "Adding folder exercise_code\n",
      "Adding folder models\n",
      "Adding notebook 1_cifar10_classification.ipynb\n",
      "Zipping successful! Zip is stored under: D:\\jupyter_project\\exercise_06\\output\\exercise_06.zip\n"
     ]
    }
   ],
   "source": [
    "from exercise_code.submit import submit_exercise\n",
    "\n",
    "submit_exercise('../output/exercise_06')"
   ]
  },
  {
   "attachments": {},
   "cell_type": "markdown",
   "metadata": {
    "id": "q5C_bKa5N5es"
   },
   "source": [
    "# 6. Submission Instructions\n",
    "\n",
    "Congratulations! You've just built your first image classifier! To complete the exercise, submit your final model to our submission portal - you probably know the procedure by now.\n",
    "\n",
    "1. Go on [our submission page](https://i2dl.cvg.cit.tum.de/submission/), register for an account and login. We use your matriculation number and send you an email with the login details to the associated mail account. When in doubt, login into tum-online and check your mails there. You will get an id which we'll need in the next step.\n",
    "2. Log into [our submission page](https://i2dl.cvg.cit.tum.de/submission/), with your account details and upload the zip file.\n",
    "3. Your submission will be evaluated by our system and you will get feedback about the performance of it. You will get an email with your score, as well as a message if you have surpassed the threshold or not.\n",
    "4. Within the working period, you can submit as many solutions as you want to get the best possible score.\n",
    "\n",
    "\n",
    "# 7. Submission Goals\n",
    "\n",
    "- Goal: Successfully implement a fully connected NN image classifier and tune the hyperparameters.\n",
    "\n",
    "- Passing Criteria: This time, there are no unit tests checking specific components of your code. To  pass the submission your model needs to reach at least **48% accuracy** on __our__ test dataset. The submission system will show you a number between 0 and 100 which corresponds to your accuracy.\n",
    "\n",
    "- You can make **$\\infty$** submissions until the deadline. Your __best submission__ will be considered for the bonus."
   ]
  }
 ],
 "metadata": {
  "colab": {
   "collapsed_sections": [
    "WKNRU4BWN5eg",
    "3MhxqP2LN5ej",
    "dbFSP4z9N5ek",
    "0TE2PxMBN5ek",
    "QUFotyERN5ek",
    "l0pZa4weN5eo",
    "rDyeiAN1N5ep",
    "DCaACnn3N5eq",
    "P8wWTovfN5eq",
    "mJZ7UXHeN5er"
   ],
   "name": "1.cifar10_classification.ipynb",
   "provenance": []
  },
  "kernelspec": {
   "display_name": "Python 3 (ipykernel)",
   "language": "python",
   "name": "python3"
  },
  "language_info": {
   "codemirror_mode": {
    "name": "ipython",
    "version": 3
   },
   "file_extension": ".py",
   "mimetype": "text/x-python",
   "name": "python",
   "nbconvert_exporter": "python",
   "pygments_lexer": "ipython3",
   "version": "3.12.4"
  },
  "vscode": {
   "interpreter": {
    "hash": "54970da6898dad277dbf355945c2dee7f942d2a31ec1fc1455b6d4f552d07b83"
   }
  }
 },
 "nbformat": 4,
 "nbformat_minor": 4
}
