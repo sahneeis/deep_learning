{
 "cells": [
  {
   "attachments": {},
   "cell_type": "markdown",
   "metadata": {
    "id": "9CALuVmNMNkM"
   },
   "source": [
    "# Autoencoder for MNIST\n",
    "\n",
    "Welcome to this notebook where you'll be training an autoencoder using the MNIST dataset, which comprises handwritten digits. This exercise is the last where we present you with a structured skeleton to work with. However, in following exercises, we will only provide you with the dataset, task, and a test scenario, enabling you to test your skills and compete with your peers on our leaderboards. Get ready to dive in and showcase your deep learning expertise!\n",
    "\n",
    "\n",
    "## Your task:\n",
    "\n",
    "Autoencoders have various applications, including unsupervised pretraining using unlabeled data, followed by fine-tuning the encoder with labeled data. This approach can greatly enhance performance when there is only a little amount of labeled data but a lot of unlabeled data available.\n",
    "\n",
    "In this exercise, you will use the MNIST dataset, consisting of 60,000 images of handwritten digits. However, not all the image labels are available to you. Your first objective is to train an autoencoder to accurately reproduce these unlabeled images.\n",
    "\n",
    "Afterwards, you will transfer the weights of the pretrained encoder and perform fine-tuning on a classifier using the available labeled data. This technique is commonly known as **transfer learning**, which allows you to leverage the knowledge gained from the autoencoder to improve the classification of the handwritten digits."
   ]
  },
  {
   "cell_type": "code",
   "execution_count": 15,
   "metadata": {
    "id": "XcU9f4APMNkT"
   },
   "outputs": [
    {
     "name": "stdout",
     "output_type": "stream",
     "text": [
      "The autoreload extension is already loaded. To reload it, use:\n",
      "  %reload_ext autoreload\n"
     ]
    }
   ],
   "source": [
    "# For automatic file reloading as usual\n",
    "%load_ext autoreload\n",
    "%autoreload 2\n",
    "%matplotlib inline"
   ]
  },
  {
   "attachments": {},
   "cell_type": "markdown",
   "metadata": {
    "id": "Xb9dFU2EMNkW"
   },
   "source": [
    "## (Optional) Mount folder in Colab\n",
    "\n",
    "Uncomment the following cell to mount your gdrive if you are using the notebook in google colab:"
   ]
  },
  {
   "cell_type": "code",
   "execution_count": 17,
   "metadata": {
    "id": "TRr4E4YVMNkW"
   },
   "outputs": [
    {
     "data": {
      "text/plain": [
       "\"\\nfrom google.colab import drive\\nimport os\\ngdrive_path='/content/gdrive/MyDrive/i2dl/exercise_08'\\n\\n# This will mount your google drive under 'MyDrive'\\ndrive.mount('/content/gdrive', force_remount=True)\\n# In order to access the files in this notebook we have to navigate to the correct folder\\nos.chdir(gdrive_path)\\n# Check manually if all files are present\\n\""
      ]
     },
     "execution_count": 17,
     "metadata": {},
     "output_type": "execute_result"
    }
   ],
   "source": [
    "# Use the following lines if you want to use Google Colab\n",
    "# We presume you created a folder \"i2dl\" within your main drive folder, and put the exercise there.\n",
    "# NOTE: terminate all other colab sessions that use GPU!\n",
    "# NOTE 2: Make sure the correct exercise folder (e.g exercise_08) is given.\n",
    "\n",
    "# from google.colab import drive\n",
    "# import os\n",
    "\n",
    "\"\"\"\n",
    "from google.colab import drive\n",
    "import os\n",
    "gdrive_path='/content/gdrive/MyDrive/i2dl/exercise_08'\n",
    "\n",
    "# This will mount your google drive under 'MyDrive'\n",
    "drive.mount('/content/gdrive', force_remount=True)\n",
    "# In order to access the files in this notebook we have to navigate to the correct folder\n",
    "os.chdir(gdrive_path)\n",
    "# Check manually if all files are present\n",
    "\"\"\""
   ]
  },
  {
   "attachments": {},
   "cell_type": "markdown",
   "metadata": {
    "id": "JzDQg-kDMNkY"
   },
   "source": [
    "### Set up PyTorch environment in colab\n",
    "- (OPTIONAL) Enable GPU via Runtime --> Change runtime type --> GPU\n",
    "- Uncomment the following cell if you are using the notebook in google colab:"
   ]
  },
  {
   "cell_type": "code",
   "execution_count": 19,
   "metadata": {
    "id": "pIUdsXeXMNkZ"
   },
   "outputs": [],
   "source": [
    "# Optional: install correct libraries in google colab\n",
    "# !python -m pip install torch==1.11.0+cu113 torchvision==0.12.0+cu113 torchtext==0.12.0+cu113 torchaudio==0.12.0+cu113 -f https://download.pytorch.org/whl/torch_stable.html\n",
    "# !python -m pip install tensorboard==2.8.0 > /dev/null\n",
    "# !python -m pip install pytorch-lightning==1.6.0"
   ]
  },
  {
   "attachments": {},
   "cell_type": "markdown",
   "metadata": {
    "id": "hEDWAZ7-ZA4E"
   },
   "source": [
    "# Imports"
   ]
  },
  {
   "cell_type": "code",
   "execution_count": 21,
   "metadata": {
    "id": "dJCiVLV5o9QO",
    "scrolled": true
   },
   "outputs": [],
   "source": [
    "import numpy as np\n",
    "import matplotlib.pyplot as plt\n",
    "from pathlib import Path\n",
    "import os, sys\n",
    "import shutil\n",
    "import torch\n",
    "import torch.nn as nn\n",
    "from torchvision import transforms\n",
    "from exercise_code.image_folder_dataset import ImageFolderDataset\n",
    "from torch.utils.tensorboard import SummaryWriter\n",
    "from time import sleep\n",
    "from tqdm import tqdm\n",
    "from exercise_code.tests.base_tests import bcolors\n",
    "\n",
    "torch.manual_seed(42)\n",
    "\n",
    "os.environ['KMP_DUPLICATE_LIB_OK']='True' # To prevent the kernel from dying."
   ]
  },
  {
   "attachments": {},
   "cell_type": "markdown",
   "metadata": {
    "id": "dvaj6myXS7nN"
   },
   "source": [
    "<div class=\"alert alert-warning\">\n",
    "    <h3>Note: Google Colab</h3>\n",
    "    <p>\n",
    "In case you don't have a GPU, you can run this notebook on Google Colab where you can access a GPU for free, but, of course, you can also run this notebook on your CPU.\n",
    "         </p>\n",
    "</div>"
   ]
  },
  {
   "cell_type": "code",
   "execution_count": 23,
   "metadata": {
    "id": "VWgm75NnS9hr",
    "scrolled": true
   },
   "outputs": [
    {
     "name": "stdout",
     "output_type": "stream",
     "text": [
      "You are using the following device:  cpu\n"
     ]
    }
   ],
   "source": [
    "# This will set the device on which to run the code, which defaults to the CPU.\n",
    "# If you have an Nvidia GPU, it will use that with cuda\n",
    "# For Apple Silicon, you can try to use the \"mps\" device by commenting in line 7.\n",
    "#  But it is not guaranteed to work and sometimes the CPU performs better.\n",
    "\n",
    "device = torch.device(\n",
    "    \"cuda:0\" if torch.cuda.is_available() else \n",
    "#   \"mps\" if torch.backends.mps.is_available() else \n",
    "    \"cpu\"\n",
    ")\n",
    "\n",
    "print('You are using the following device: ', device)"
   ]
  },
  {
   "attachments": {},
   "cell_type": "markdown",
   "metadata": {
    "id": "Pm_rTAPnpsUo"
   },
   "source": [
    "## Setup TensorBoard\n",
    "\n",
    "In the previous exercise (Exercise 07), you learned how to use TensorBoard effectively. Let's use it again to enhance the convenience of debugging your network and the training process. Throughout this notebook, feel free to implement additional logs or visualizations into your TensorBoard, further improving your analysis and understanding of the network's behavior. "
   ]
  },
  {
   "cell_type": "code",
   "execution_count": 25,
   "metadata": {
    "id": "QbAJFyHkMNke"
   },
   "outputs": [],
   "source": [
    "################# COLAB ONLY #################\n",
    "# %load_ext tensorboard\n",
    "# %tensorboard --logdir=./ --port 6006\n",
    "\n",
    "# Use the cmd for less trouble, if you can. From the working directory, run: tensorboard --logdir=./ --port 6006"
   ]
  },
  {
   "attachments": {},
   "cell_type": "markdown",
   "metadata": {
    "id": "t-Yt2KRiMNkf"
   },
   "source": [
    "# 1. The MNIST Dataset\n",
    "\n",
    "First, let's download the MNIST dataset. As mentioned at the beginning of this notebook, MNIST is a dataset of 60,000 images depicting handwritten digits. However, labeling such a large dataset can be a costly process, leaving us in a challenging situation.\n",
    "\n",
    "To overcome this, a practical approach is to label a small subset of the images. Let's consider a scenario where you have hired another student to perform the labeling task for you. After some time, you have been provided with 300 labeled images. Out of these, 100 images will be used for training, another 100 for validation, and the remaining 100 for testing. Undoubtedly, this poses a challenge due to the limited number of labeled samples.\n",
    "\n",
    "Now, you have the flexibility to define any transforms that you deem necessary, either at this point or at a later stage. However, it's important to note that during the final evaluation on the server, no transformations will be applied to the test set.\n",
    "\n",
    "Feel free to experiment with various transforms as you proceed (you can also pass without any transforms). \n",
    "\n",
    "\n",
    "**Note**: We do **not** apply any transformations or normalization to the test set at the time of final evaluation on our server."
   ]
  },
  {
   "cell_type": "code",
   "execution_count": 27,
   "metadata": {
    "id": "U5_eopjbMNkf",
    "pycharm": {
     "name": "#%%\n"
    },
    "scrolled": true
   },
   "outputs": [
    {
     "name": "stdout",
     "output_type": "stream",
     "text": [
      "Found dataset folder. Skipped downloading. If you face issues, please re-download the dataset using\n",
      "'--force_download=True'\n",
      "https://i2dl.vc.in.tum.de/static/data/mnist.zip\n",
      "Found dataset folder. Skipped downloading. If you face issues, please re-download the dataset using\n",
      "'--force_download=True'\n",
      "https://i2dl.vc.in.tum.de/static/data/mnist.zip\n",
      "Found dataset folder. Skipped downloading. If you face issues, please re-download the dataset using\n",
      "'--force_download=True'\n",
      "https://i2dl.vc.in.tum.de/static/data/mnist.zip\n",
      "Found dataset folder. Skipped downloading. If you face issues, please re-download the dataset using\n",
      "'--force_download=True'\n",
      "https://i2dl.vc.in.tum.de/static/data/mnist.zip\n",
      "Found dataset folder. Skipped downloading. If you face issues, please re-download the dataset using\n",
      "'--force_download=True'\n",
      "https://i2dl.vc.in.tum.de/static/data/mnist.zip\n"
     ]
    }
   ],
   "source": [
    "transform = transforms.Compose([\n",
    "                transforms.RandomHorizontalFlip(p=0.5),\n",
    "                transforms.ToPILImage(),\n",
    "                transforms.ToTensor()])\n",
    "\n",
    "########################################################################\n",
    "# TODO: Feel free to define transforms (Only data augmentation)        #\n",
    "########################################################################\n",
    "\n",
    "########################################################################\n",
    "#                           END OF YOUR CODE                           #\n",
    "########################################################################\n",
    "\n",
    "i2dl_exercises_path = os.path.dirname(os.path.abspath(os.getcwd()))\n",
    "mnist_root = os.path.join(i2dl_exercises_path, \"datasets\", \"mnist\")\n",
    "\n",
    "train_100_dataset = ImageFolderDataset(root=mnist_root,images='train_images.pt',labels='train_labels.pt',force_download=False,verbose=True,transform=transform)\n",
    "val_100_dataset = ImageFolderDataset(root=mnist_root,images='val_images.pt',labels='val_labels.pt',force_download=False,verbose=True,transform=transform)\n",
    "test_100_dataset = ImageFolderDataset(root=mnist_root,images='test_images.pt',labels='test_labels.pt',force_download=False,verbose=True,transform=transform)\n",
    "\n",
    "# We also set up the unlabeled images which we will use later\n",
    "unlabeled_train = ImageFolderDataset(root=mnist_root,images='unlabeled_train_images.pt',force_download=False,verbose=True,transform=transform)\n",
    "unlabeled_val = ImageFolderDataset(root=mnist_root,images='unlabeled_val_images.pt',force_download=False,verbose=True,transform=transform)\n",
    "\n"
   ]
  },
  {
   "attachments": {},
   "cell_type": "markdown",
   "metadata": {
    "id": "zwrT1ckAMNkg"
   },
   "source": [
    "The dataset consists of tuples of 28x28 pixel PIL images and a label that is an integer from 0 to 9. \n",
    "\n",
    "Let's turn a few of the images into numpy arrays, to look at their shape and visualize them and see if the labels we paid for are correct."
   ]
  },
  {
   "cell_type": "code",
   "execution_count": 29,
   "metadata": {
    "id": "k7ct1J2CMNkh"
   },
   "outputs": [
    {
     "name": "stdout",
     "output_type": "stream",
     "text": [
      "The shape of our greyscale images:  (28, 28)\n"
     ]
    },
    {
     "data": {
      "image/png": "[encoded data removed]",
      "text/plain": [
       "<Figure size 1600x1600 with 10 Axes>"
      ]
     },
     "metadata": {},
     "output_type": "display_data"
    }
   ],
   "source": [
    "plt.rcParams['figure.figsize'] = (16,16) # Make the figures a bit bigger\n",
    "\n",
    "indices_arr = [83, 98, 92, 99, 78, 97, 90, 95, 93, 96]\n",
    "for i, index in enumerate(indices_arr):\n",
    "    image = np.array(train_100_dataset[index][0].squeeze()) # get the image of the data sample\n",
    "    label = train_100_dataset[index][1] # get the label of the data sample\n",
    "    plt.subplot(1, 10, i + 1)\n",
    "    plt.imshow(image, cmap='gray', interpolation='none')\n",
    "    plt.title(\"Class {}\".format(label))\n",
    "    \n",
    "plt.tight_layout()\n",
    "print('The shape of our greyscale images: ', image.shape)"
   ]
  },
  {
   "attachments": {},
   "cell_type": "markdown",
   "metadata": {
    "id": "V9sz_lHyqJoj"
   },
   "source": [
    "<div class=\"alert alert-warning\">\n",
    "    <h3>Note: Starting Simple</h3>\n",
    "    <p>\n",
    "Regardless of the size of the dataset, the first step is to evaluate the performance of a simple classifier. It is advisable to always start with a straightforward approach when tackling a problem and gradually build upon it to determine which changes yield improvements.</p>\n",
    "</div>\n",
    "\n",
    "# 2. A Simple Classifier\n",
    "\n",
    "In `exercise_code/models.py`, we prepared all classes for you, which you will finalize throughout the notebook to build an Autoencoder and an image classifier with PyTorch.\n",
    "\n",
    "<!-- In case image does not show, uncomment the following:\n",
    " ![network_split](img/network_split.png) \n",
    " -->\n",
    "<img name=\"network_split\" src=\"https://i2dl.vc.in.tum.de/static/images/exercise_08/network_split.png\">\n",
    "\n",
    "\n",
    "## 2.1 The Encoder\n",
    "\n",
    "Unlike previous models, we are going to split up the model into two parts: the `encoder` and the `classifier`. The `classifier` has a fixed task, generating predictions given a one-dimensional input. On the other hand, the `encoder`'s task is to extract meaningful information from the input, enabling the classifier to make accurate decisions. \n",
    "\n",
    "For now, both networks will be similar in design and consist of linear layers coupled with auxiliary layers. This split-up will be relevant later, e.g., by using convolutional layers, which are introduced in the lecture. We are going to set up the `encoder` now. \n",
    "\n",
    "Think about a good network architecture. You have complete freedom in this regard and can devise any network structure you think might be fitting. (\\*)\n",
    "\n",
    "Have a look at the documentation of `torch.nn` at https://pytorch.org/docs/stable/nn.html to learn how to use this module in order to build your network!\n",
    "\n",
    "Then implement your architecture: initialize it in `__init__()` and assign it to `self.model`. This is particularly easy using `nn.Sequential()`, where you only have to pass the list of your layers. \n",
    "\n",
    "To make your model customizable and support parameter search, do not use hardcoded hyperparameters - instead, pass them as a simple dictionary `hparams` (here, `n_hidden` is the number of neurons in the hidden layer) when initializing `models`.\n",
    "\n",
    "Here is a simple example:\n",
    "\n",
    "```python\n",
    "        self.model = nn.Sequential(\n",
    "            nn.Linear(input_size, self.hparams[\"n_hidden\"]),\n",
    "            nn.ReLU(),            \n",
    "            nn.Linear(self.hparams[\"n_hidden\"], num_classes)\n",
    "        )\n",
    "```\n",
    "\n",
    "Have a look at the forward path in `forward(self, x)`, which is so easy that you don't need to implement it yourself.\n",
    "\n",
    "As PyTorch automatically computes the gradients, that's all you need to do! There is no need to manually calculate derivatives for the backward paths anymore! :)\n",
    "\n",
    "\n",
    "____\n",
    "\\* *The size of your final model must be less than 20 MB, which is approximately equivalent to 5 Mio. params. Note that this limit is quite lenient, you will probably need much fewer parameters!*\n",
    "\n",
    "*In order to keep things simple, you should only use fully connected layers for this task, as we need to revert the encoder architecture later on in the notebook.*\n",
    "\n",
    "<div class=\"alert alert-info\">\n",
    "    <h3>Task: Implement</h3>\n",
    "    <p>Implement the <code>Encoder</code> class initialization in <code>exercise_code/models.py</code>.\n",
    "    </p>\n",
    "</div>\n",
    "\n",
    "\n"
   ]
  },
  {
   "attachments": {},
   "cell_type": "markdown",
   "metadata": {
    "id": "jNf7FrvwMNki"
   },
   "source": [
    "## 2.2 The Classifier\n",
    "\n",
    "Now let's implement the classifier. The classifier will utilize the encoder that you have defined in the above cell. By looking at `Classifier.forward`, you can see that we are essentially concatenating the `classifier`and the `encoder` together. Therefore, it is crucial to ensure that the input shape of the classifier matches the output shape of the encoder you implemented above\n",
    "\n",
    "<div class=\"alert alert-info\">\n",
    "    <h3>Task: Implement</h3>\n",
    "    <p>1. Implement the <code>Classifier</code> class network initialization in <code>exercise_code/models.py</code>.\n",
    "    </p>\n",
    "    <p>2. Define in the next cell your hyperparameters in a dictionary called 'hparams'.\n",
    "    </p>\n",
    "</div>"
   ]
  },
  {
   "cell_type": "code",
   "execution_count": 32,
   "metadata": {
    "id": "AawbvD1rMNkj"
   },
   "outputs": [],
   "source": [
    "hparams = {}\n",
    "########################################################################\n",
    "# TODO: Define your hyper parameters here!                             #\n",
    "########################################################################\n",
    "\n",
    "hparams = {\n",
    "    \"cls_hidden_size_1\" : 512,\n",
    "    \"cls_hidden_size_2\" : 128,\n",
    "    \"cls_activation\" : nn.LeakyReLU,\n",
    "    \"dec_hidden_size_1\" : 128,\n",
    "    \"dec_hidden_size_2\" : 128,\n",
    "    \"dec_hidden_size_3\" : 128,\n",
    "    \"cls_learning_rate\" : 3*1e-4,\n",
    "    \"batch_size\"        : 16,\n",
    "    \"ae_learning_rate\"  : 1e-3,\n",
    "    \"epochs\"            : 40\n",
    "}\n",
    "\n",
    "########################################################################\n",
    "#                           END OF YOUR CODE                           #\n",
    "########################################################################"
   ]
  },
  {
   "attachments": {},
   "cell_type": "markdown",
   "metadata": {
    "id": "bOYbUg8lAmgU"
   },
   "source": [
    "\n",
    "## 2.3 Optimizer\n",
    "Lastly, implement the function `set_optimizer` to define your optimizer. Here the documentation of `torch.optim` at https://pytorch.org/docs/stable/optim.html might be helpful.\n",
    "\n",
    "<div class=\"alert alert-info\">\n",
    "    <h3>Task: Implement</h3>\n",
    "    <p>Implement the <code>set_optimizer</code> method of the <code>Classifier</code> in <code>exercise_code/models.py</code>.\n",
    "    </p>\n",
    "</div>\n"
   ]
  },
  {
   "attachments": {},
   "cell_type": "markdown",
   "metadata": {
    "id": "xrUfa-a7MNkk"
   },
   "source": [
    "## 2.4 Training & Validation Step\n",
    "\n",
    "<div class=\"alert alert-success\">\n",
    "    <h3>Task: Check Code</h3>\n",
    "    <p> Let's take a closer look at the training pipeline outlined below. It is explicitly written here in its entirety to provide you with a comprehensive understanding of its structure. Additionally, you can refer back to this pipeline whenever you encounter any uncertainties or need guidance.\n",
    " </p>\n",
    "</div>\n"
   ]
  },
  {
   "cell_type": "code",
   "execution_count": 35,
   "metadata": {
    "id": "NY_lLaNWMNkk"
   },
   "outputs": [],
   "source": [
    " # One of the most crucial things in deep learning is to understand the training pipeline:\n",
    " # 1. Forward()          --> The forward pass of the network, to calculate the currnent loss.\n",
    " # 2. Backward()         --> The backward pass of the network, to calculate the gradients w.r.t the loss, calculated in the previous stage.\n",
    " # 3. Optimizer_step()   --> Update the weights w.r.t their corresponding gradients and the learnign rate.\n",
    "\n",
    "def create_tqdm_bar(iterable, desc):\n",
    "    return tqdm(enumerate(iterable),total=len(iterable), ncols=150, desc=desc)\n",
    "\n",
    "\n",
    "def train_classifier(classifier, train_loader, val_loader, loss_func, tb_logger, epochs=10, name=\"default\"):\n",
    "    \"\"\"\n",
    "    Train the classifier for a number of epochs.\n",
    "    \"\"\"\n",
    "    optimizer = classifier.optimizer\n",
    "    classifier = classifier.to(device)\n",
    "    validation_loss = 0\n",
    "    for epoch in range(epochs):\n",
    "        \n",
    "        training_loss = 0\n",
    "        \n",
    "        # Training stage, where we want to update the parameters.\n",
    "        classifier.train()  # Set the model to training mode\n",
    "        \n",
    "        # Create a progress bar for the training loop.\n",
    "        training_loop = create_tqdm_bar(train_loader, desc=f'Training Epoch [{epoch + 1}/{epochs}]')\n",
    "        for train_iteration, batch in training_loop:\n",
    "            optimizer.zero_grad() # Reset the gradients - VERY important! Otherwise they accumulate.\n",
    "            images, labels = batch # Get the images and labels from the batch, in the fashion we defined in the dataset and dataloader.\n",
    "            images, labels = images.to(device), labels.to(device) # Send the data to the device (GPU or CPU) - it has to be the same device as the model.\n",
    "\n",
    "            # Flatten the images to a vector. This is done because the classifier expects a vector as input.\n",
    "            # Could also be done by reshaping the images in the dataset.\n",
    "            images = images.view(images.shape[0], -1) \n",
    "\n",
    "            pred = classifier(images) # Stage 1: Forward().\n",
    "            loss = loss_func(pred, labels) # Compute the loss over the predictions and the ground truth.\n",
    "            loss.backward()  # Stage 2: Backward().\n",
    "            optimizer.step() # Stage 3: Update the parameters.\n",
    "\n",
    "            training_loss += loss.item()\n",
    "\n",
    "            # Update the progress bar.\n",
    "            training_loop.set_postfix(curr_train_loss = \"{:.8f}\".format(training_loss / (train_iteration + 1)), val_loss = \"{:.8f}\".format(validation_loss))\n",
    "\n",
    "            # Update the tensorboard logger.\n",
    "            tb_logger.add_scalar(f'classifier_{name}/train_loss', loss.item(), epoch * len(train_loader) + train_iteration)\n",
    "            sleep(0.1) # Remove this line if you want to see the progress bar faster.\n",
    "\n",
    "        # Validation stage, where we don't want to update the parameters. Pay attention to the classifier.eval() line\n",
    "        # and \"with torch.no_grad()\" wrapper.\n",
    "        classifier.eval()\n",
    "        val_loop = create_tqdm_bar(val_loader, desc=f'Validation Epoch [{epoch + 1}/{epochs}]')\n",
    "        validation_loss = 0\n",
    "        with torch.no_grad():\n",
    "            for val_iteration, batch in val_loop:\n",
    "                images, labels = batch\n",
    "                images, labels = images.to(device), labels.to(device)\n",
    "\n",
    "                images = images.view(images.shape[0], -1) \n",
    "                pred = classifier(images)\n",
    "                loss = loss_func(pred, labels)\n",
    "                validation_loss += loss.item()\n",
    "\n",
    "                # Update the progress bar.\n",
    "                val_loop.set_postfix(val_loss = \"{:.8f}\".format(validation_loss / (val_iteration + 1)))\n",
    "\n",
    "                # Update the tensorboard logger.\n",
    "                tb_logger.add_scalar(f'classifier_{name}/val_loss', loss.item(), epoch * len(val_loader) + val_iteration)\n",
    "                sleep(0.1) # Remove this line if you want to see the progress bar faster.\n",
    "        \n",
    "        # This value is used for the progress bar of the training loop.\n",
    "        validation_loss /= len(val_loader)\n",
    "            "
   ]
  },
  {
   "attachments": {},
   "cell_type": "markdown",
   "metadata": {
    "id": "KVKLlwlyMNkl"
   },
   "source": [
    "## 2.5 Fit Classification Model with Trainer\n",
    "Now it's finally time to train your model.\n",
    "Run the following cell to see the behold the magic of deep learning at play."
   ]
  },
  {
   "cell_type": "code",
   "execution_count": 43,
   "metadata": {
    "id": "uBGavq9cMNkl"
   },
   "outputs": [
    {
     "name": "stderr",
     "output_type": "stream",
     "text": [
      "Training Epoch [1/40]: 100%|███████████████████████████████████████████| 7/7 [00:00<00:00,  8.83it/s, curr_train_loss=2.30298941, val_loss=0.00000000]\n",
      "Validation Epoch [1/40]: 100%|█████████████████████████████████████████████████████████████████████| 7/7 [00:00<00:00,  9.58it/s, val_loss=2.30178976]\n",
      "Training Epoch [2/40]: 100%|███████████████████████████████████████████| 7/7 [00:00<00:00,  9.33it/s, curr_train_loss=2.30078312, val_loss=2.30178976]\n",
      "Validation Epoch [2/40]: 100%|█████████████████████████████████████████████████████████████████████| 7/7 [00:00<00:00,  9.63it/s, val_loss=2.29977543]\n",
      "Training Epoch [3/40]: 100%|███████████████████████████████████████████| 7/7 [00:00<00:00,  9.36it/s, curr_train_loss=2.29925057, val_loss=2.29977543]\n",
      "Validation Epoch [3/40]: 100%|█████████████████████████████████████████████████████████████████████| 7/7 [00:00<00:00,  9.62it/s, val_loss=2.29545515]\n",
      "Training Epoch [4/40]: 100%|███████████████████████████████████████████| 7/7 [00:00<00:00,  9.33it/s, curr_train_loss=2.29631267, val_loss=2.29545515]\n",
      "Validation Epoch [4/40]: 100%|█████████████████████████████████████████████████████████████████████| 7/7 [00:00<00:00,  9.63it/s, val_loss=2.28879465]\n",
      "Training Epoch [5/40]: 100%|███████████████████████████████████████████| 7/7 [00:00<00:00,  9.36it/s, curr_train_loss=2.28471099, val_loss=2.28879465]\n",
      "Validation Epoch [5/40]: 100%|█████████████████████████████████████████████████████████████████████| 7/7 [00:00<00:00,  9.57it/s, val_loss=2.28191175]\n",
      "Training Epoch [6/40]: 100%|███████████████████████████████████████████| 7/7 [00:00<00:00,  9.34it/s, curr_train_loss=2.27008329, val_loss=2.28191175]\n",
      "Validation Epoch [6/40]: 100%|█████████████████████████████████████████████████████████████████████| 7/7 [00:00<00:00,  9.62it/s, val_loss=2.26473222]\n",
      "Training Epoch [7/40]: 100%|███████████████████████████████████████████| 7/7 [00:00<00:00,  9.34it/s, curr_train_loss=2.20119013, val_loss=2.26473222]\n",
      "Validation Epoch [7/40]: 100%|█████████████████████████████████████████████████████████████████████| 7/7 [00:00<00:00,  9.61it/s, val_loss=2.24241590]\n",
      "Training Epoch [8/40]: 100%|███████████████████████████████████████████| 7/7 [00:00<00:00,  9.34it/s, curr_train_loss=2.11659871, val_loss=2.24241590]\n",
      "Validation Epoch [8/40]: 100%|█████████████████████████████████████████████████████████████████████| 7/7 [00:00<00:00,  9.62it/s, val_loss=2.18876219]\n",
      "Training Epoch [9/40]: 100%|███████████████████████████████████████████| 7/7 [00:00<00:00,  9.35it/s, curr_train_loss=2.02666283, val_loss=2.18876219]\n",
      "Validation Epoch [9/40]: 100%|█████████████████████████████████████████████████████████████████████| 7/7 [00:00<00:00,  9.61it/s, val_loss=2.18359819]\n",
      "Training Epoch [10/40]: 100%|██████████████████████████████████████████| 7/7 [00:00<00:00,  9.34it/s, curr_train_loss=1.85339078, val_loss=2.18359819]\n",
      "Validation Epoch [10/40]: 100%|████████████████████████████████████████████████████████████████████| 7/7 [00:00<00:00,  9.63it/s, val_loss=2.22715320]\n",
      "Training Epoch [11/40]: 100%|██████████████████████████████████████████| 7/7 [00:00<00:00,  9.36it/s, curr_train_loss=1.88215307, val_loss=2.22715320]\n",
      "Validation Epoch [11/40]: 100%|████████████████████████████████████████████████████████████████████| 7/7 [00:00<00:00,  9.59it/s, val_loss=2.17657435]\n",
      "Training Epoch [12/40]: 100%|██████████████████████████████████████████| 7/7 [00:00<00:00,  9.30it/s, curr_train_loss=1.76829217, val_loss=2.17657435]\n",
      "Validation Epoch [12/40]: 100%|████████████████████████████████████████████████████████████████████| 7/7 [00:00<00:00,  9.60it/s, val_loss=2.07224989]\n",
      "Training Epoch [13/40]: 100%|██████████████████████████████████████████| 7/7 [00:00<00:00,  9.36it/s, curr_train_loss=1.62027017, val_loss=2.07224989]\n",
      "Validation Epoch [13/40]: 100%|████████████████████████████████████████████████████████████████████| 7/7 [00:00<00:00,  9.61it/s, val_loss=2.09550372]\n",
      "Training Epoch [14/40]: 100%|██████████████████████████████████████████| 7/7 [00:00<00:00,  9.35it/s, curr_train_loss=1.54984917, val_loss=2.09550372]\n",
      "Validation Epoch [14/40]: 100%|████████████████████████████████████████████████████████████████████| 7/7 [00:00<00:00,  9.64it/s, val_loss=2.10409953]\n",
      "Training Epoch [15/40]: 100%|██████████████████████████████████████████| 7/7 [00:00<00:00,  9.33it/s, curr_train_loss=1.47608381, val_loss=2.10409953]\n",
      "Validation Epoch [15/40]: 100%|████████████████████████████████████████████████████████████████████| 7/7 [00:00<00:00,  9.63it/s, val_loss=2.03187583]\n",
      "Training Epoch [16/40]: 100%|██████████████████████████████████████████| 7/7 [00:00<00:00,  9.32it/s, curr_train_loss=1.36312802, val_loss=2.03187583]\n",
      "Validation Epoch [16/40]: 100%|████████████████████████████████████████████████████████████████████| 7/7 [00:00<00:00,  9.63it/s, val_loss=2.10047872]\n",
      "Training Epoch [17/40]: 100%|██████████████████████████████████████████| 7/7 [00:00<00:00,  9.37it/s, curr_train_loss=1.28812449, val_loss=2.10047872]\n",
      "Validation Epoch [17/40]: 100%|████████████████████████████████████████████████████████████████████| 7/7 [00:00<00:00,  9.64it/s, val_loss=2.07619405]\n",
      "Training Epoch [18/40]: 100%|██████████████████████████████████████████| 7/7 [00:00<00:00,  9.30it/s, curr_train_loss=1.20266633, val_loss=2.07619405]\n",
      "Validation Epoch [18/40]: 100%|████████████████████████████████████████████████████████████████████| 7/7 [00:00<00:00,  9.60it/s, val_loss=2.27647325]\n",
      "Training Epoch [19/40]: 100%|██████████████████████████████████████████| 7/7 [00:00<00:00,  9.37it/s, curr_train_loss=1.25466623, val_loss=2.27647325]\n",
      "Validation Epoch [19/40]: 100%|████████████████████████████████████████████████████████████████████| 7/7 [00:00<00:00,  9.63it/s, val_loss=2.01042821]\n",
      "Training Epoch [20/40]: 100%|██████████████████████████████████████████| 7/7 [00:00<00:00,  9.31it/s, curr_train_loss=1.11053608, val_loss=2.01042821]\n",
      "Validation Epoch [20/40]: 100%|████████████████████████████████████████████████████████████████████| 7/7 [00:00<00:00,  9.62it/s, val_loss=2.03811283]\n",
      "Training Epoch [21/40]: 100%|██████████████████████████████████████████| 7/7 [00:00<00:00,  9.37it/s, curr_train_loss=1.04598779, val_loss=2.03811283]\n",
      "Validation Epoch [21/40]: 100%|████████████████████████████████████████████████████████████████████| 7/7 [00:00<00:00,  9.62it/s, val_loss=1.97214832]\n",
      "Training Epoch [22/40]: 100%|██████████████████████████████████████████| 7/7 [00:00<00:00,  9.29it/s, curr_train_loss=0.96602322, val_loss=1.97214832]\n",
      "Validation Epoch [22/40]: 100%|████████████████████████████████████████████████████████████████████| 7/7 [00:00<00:00,  9.62it/s, val_loss=2.31018414]\n",
      "Training Epoch [23/40]: 100%|██████████████████████████████████████████| 7/7 [00:00<00:00,  9.33it/s, curr_train_loss=0.91872247, val_loss=2.31018414]\n",
      "Validation Epoch [23/40]: 100%|████████████████████████████████████████████████████████████████████| 7/7 [00:00<00:00,  9.58it/s, val_loss=2.04544771]\n",
      "Training Epoch [24/40]: 100%|██████████████████████████████████████████| 7/7 [00:00<00:00,  9.34it/s, curr_train_loss=0.83781203, val_loss=2.04544771]\n",
      "Validation Epoch [24/40]: 100%|████████████████████████████████████████████████████████████████████| 7/7 [00:00<00:00,  9.62it/s, val_loss=2.17987611]\n",
      "Training Epoch [25/40]: 100%|██████████████████████████████████████████| 7/7 [00:00<00:00,  9.33it/s, curr_train_loss=0.76314955, val_loss=2.17987611]\n",
      "Validation Epoch [25/40]: 100%|████████████████████████████████████████████████████████████████████| 7/7 [00:00<00:00,  9.62it/s, val_loss=2.12351320]\n",
      "Training Epoch [26/40]: 100%|██████████████████████████████████████████| 7/7 [00:00<00:00,  9.29it/s, curr_train_loss=0.75864684, val_loss=2.12351320]\n",
      "Validation Epoch [26/40]: 100%|████████████████████████████████████████████████████████████████████| 7/7 [00:00<00:00,  9.64it/s, val_loss=2.19821841]\n",
      "Training Epoch [27/40]: 100%|██████████████████████████████████████████| 7/7 [00:00<00:00,  9.37it/s, curr_train_loss=0.68681333, val_loss=2.19821841]\n",
      "Validation Epoch [27/40]: 100%|████████████████████████████████████████████████████████████████████| 7/7 [00:00<00:00,  9.62it/s, val_loss=2.68521643]\n",
      "Training Epoch [28/40]: 100%|██████████████████████████████████████████| 7/7 [00:00<00:00,  9.32it/s, curr_train_loss=0.57219333, val_loss=2.68521643]\n",
      "Validation Epoch [28/40]: 100%|████████████████████████████████████████████████████████████████████| 7/7 [00:00<00:00,  9.63it/s, val_loss=2.23304294]\n",
      "Training Epoch [29/40]: 100%|██████████████████████████████████████████| 7/7 [00:00<00:00,  9.34it/s, curr_train_loss=0.67386693, val_loss=2.23304294]\n",
      "Validation Epoch [29/40]: 100%|████████████████████████████████████████████████████████████████████| 7/7 [00:00<00:00,  9.62it/s, val_loss=2.51409791]\n",
      "Training Epoch [30/40]: 100%|██████████████████████████████████████████| 7/7 [00:00<00:00,  9.33it/s, curr_train_loss=0.59035763, val_loss=2.51409791]\n",
      "Validation Epoch [30/40]: 100%|████████████████████████████████████████████████████████████████████| 7/7 [00:00<00:00,  9.63it/s, val_loss=2.21588629]\n",
      "Training Epoch [31/40]: 100%|██████████████████████████████████████████| 7/7 [00:00<00:00,  9.34it/s, curr_train_loss=0.53850718, val_loss=2.21588629]\n",
      "Validation Epoch [31/40]: 100%|████████████████████████████████████████████████████████████████████| 7/7 [00:00<00:00,  9.61it/s, val_loss=2.50773357]\n",
      "Training Epoch [32/40]: 100%|██████████████████████████████████████████| 7/7 [00:00<00:00,  9.30it/s, curr_train_loss=0.40655448, val_loss=2.50773357]\n",
      "Validation Epoch [32/40]: 100%|████████████████████████████████████████████████████████████████████| 7/7 [00:00<00:00,  9.64it/s, val_loss=2.28679591]\n",
      "Training Epoch [33/40]: 100%|██████████████████████████████████████████| 7/7 [00:00<00:00,  9.36it/s, curr_train_loss=0.42436484, val_loss=2.28679591]\n",
      "Validation Epoch [33/40]: 100%|████████████████████████████████████████████████████████████████████| 7/7 [00:00<00:00,  9.64it/s, val_loss=2.60481283]\n",
      "Training Epoch [34/40]: 100%|██████████████████████████████████████████| 7/7 [00:00<00:00,  9.33it/s, curr_train_loss=0.34094576, val_loss=2.60481283]\n",
      "Validation Epoch [34/40]: 100%|████████████████████████████████████████████████████████████████████| 7/7 [00:00<00:00,  9.60it/s, val_loss=2.34659926]\n",
      "Training Epoch [35/40]: 100%|██████████████████████████████████████████| 7/7 [00:00<00:00,  9.34it/s, curr_train_loss=0.32327242, val_loss=2.34659926]\n",
      "Validation Epoch [35/40]: 100%|████████████████████████████████████████████████████████████████████| 7/7 [00:00<00:00,  9.62it/s, val_loss=2.60077509]\n",
      "Training Epoch [36/40]: 100%|██████████████████████████████████████████| 7/7 [00:00<00:00,  9.33it/s, curr_train_loss=0.25628338, val_loss=2.60077509]\n",
      "Validation Epoch [36/40]: 100%|████████████████████████████████████████████████████████████████████| 7/7 [00:00<00:00,  9.63it/s, val_loss=2.45452252]\n",
      "Training Epoch [37/40]: 100%|██████████████████████████████████████████| 7/7 [00:00<00:00,  9.34it/s, curr_train_loss=0.22798320, val_loss=2.45452252]\n",
      "Validation Epoch [37/40]: 100%|████████████████████████████████████████████████████████████████████| 7/7 [00:00<00:00,  9.62it/s, val_loss=2.66121554]\n",
      "Training Epoch [38/40]: 100%|██████████████████████████████████████████| 7/7 [00:00<00:00,  9.32it/s, curr_train_loss=0.23741177, val_loss=2.66121554]\n",
      "Validation Epoch [38/40]: 100%|████████████████████████████████████████████████████████████████████| 7/7 [00:00<00:00,  9.59it/s, val_loss=2.64165703]\n",
      "Training Epoch [39/40]: 100%|██████████████████████████████████████████| 7/7 [00:00<00:00,  9.34it/s, curr_train_loss=0.26262405, val_loss=2.64165703]\n",
      "Validation Epoch [39/40]: 100%|████████████████████████████████████████████████████████████████████| 7/7 [00:00<00:00,  9.60it/s, val_loss=2.82006480]\n",
      "Training Epoch [40/40]: 100%|██████████████████████████████████████████| 7/7 [00:00<00:00,  9.29it/s, curr_train_loss=0.16753388, val_loss=2.82006480]\n",
      "Validation Epoch [40/40]: 100%|████████████████████████████████████████████████████████████████████| 7/7 [00:00<00:00,  9.63it/s, val_loss=2.65020514]"
     ]
    },
    {
     "name": "stdout",
     "output_type": "stream",
     "text": [
      "Finished training!\n",
      "How did we do? Let's check the accuracy of the defaut classifier on the training and validation sets:\n",
      "Training Acc: 97.0%\n",
      "Validation Acc: 50.0%\n"
     ]
    },
    {
     "name": "stderr",
     "output_type": "stream",
     "text": [
      "\n"
     ]
    }
   ],
   "source": [
    "from exercise_code.models import Classifier\n",
    "from exercise_code.models import Encoder\n",
    "\n",
    "# Create the encoder and the classifier.\n",
    "encoder = Encoder(hparams).to(device)\n",
    "classifier = Classifier(hparams, encoder).to(device)\n",
    "\n",
    "# Create a tensorboard logger.\n",
    "# NOTE: In order to see the logs, run the following command in the terminal: tensorboard --logdir=./\n",
    "# Also, in order to reset the logs, delete the logs folder MANUALLY.\n",
    "\n",
    "path = os.path.join('logs', 'cls_logs')\n",
    "num_of_runs = len(os.listdir(path)) if os.path.exists(path) else 0\n",
    "path = os.path.join(path, f'run_{num_of_runs + 1}')\n",
    "\n",
    "tb_logger = SummaryWriter(path)\n",
    "\n",
    "# Train the classifier.\n",
    "labled_train_loader = torch.utils.data.DataLoader(train_100_dataset, batch_size=hparams['batch_size'], shuffle=True)\n",
    "labled_val_loader = torch.utils.data.DataLoader(val_100_dataset, batch_size=hparams['batch_size'], shuffle=False)\n",
    "\n",
    "epochs = hparams.get('epochs', 10)\n",
    "loss_func = nn.CrossEntropyLoss() # The loss function we use for classification.\n",
    "train_classifier(classifier, labled_train_loader, labled_val_loader, loss_func, tb_logger, epochs=epochs, name=\"Default\")\n",
    "\n",
    "print(\"Finished training!\")\n",
    "print(\"How did we do? Let's check the accuracy of the defaut classifier on the training and validation sets:\")\n",
    "print(f\"Training Acc: {classifier.getAcc(labled_train_loader)[1] * 100}%\")\n",
    "print(f\"Validation Acc: {classifier.getAcc(labled_val_loader)[1] * 100}%\")"
   ]
  },
  {
   "attachments": {},
   "cell_type": "markdown",
   "metadata": {
    "id": "i16vmHZXMNkm",
    "pycharm": {
     "name": "#%% md\n"
    }
   },
   "source": [
    "# 3. Autoencoder\n",
    "\n",
    "With only a limited number of labeled images, it's challenging to achieve high performance. We have no money left to pay the student to create more labels, and labeling the data ourselves is out of question. A commonly used approach would be to apply data augmentation to maximize the potential of our limited labeled data, but here we provide another way to solve this problem: **transfer learning**.\n",
    "\n",
    "For each input, the autoencoder tries to reproduce the same image as an output. The difficulty behind this task is that the autoencoder has to go through a low dimensional bottleneck, which is called the **latent space**.\n",
    "In other words, the autoencoder learns to represent all the input information in a low dimensional latent space - it learns to compress the input distribution. To train the autoencoder, we use the mean squared error loss, which calculates the discrepancy between the input pixels and the output pixels. The best part is that this loss function doesn't require any labels!\n",
    "\n",
    "By pretraining the autoencoder in this way on a large amount of unlabeled data, we can capture valuable latent representations of the input images. Then, we transfer the weights of the encoder to our classifier, enabling it to benefit from the knowledge learned during the unsupervised pretraining phase. \n",
    "\n",
    "<!-- In case the image does not show, uncomment the following:\n",
    "![autoencoder](img/autoencoder.png) \n",
    "-->\n",
    "<img name=\"autoencoder\" src=\"https://i2dl.vc.in.tum.de/static/images/exercise_08/autoencoder.png\">\n",
    "\n",
    "After this, our encoder has learned to extract meaningful information from the inputs. We can then transfer its weights\n",
    "to a classifier architecture and finetune it with our labeled data, i.e., instead of initializing our encoder randomly, we are re-using the weights of our trained encoder from our autoencoder network. \n",
    "\n",
    "<!-- In case the image does not show, uncomment the following:\n",
    "![autoencoder_pretrained](img/pretrained.png) \n",
    "-->\n",
    "<img name=\"autoencoder_pretrained\" src=\"https://i2dl.vc.in.tum.de/static/images/exercise_08/pretrained.png\">\n",
    "\n",
    "\n",
    "Before we can train our autoencoder, you have to initialize your `decoder` architecture. The simplest way is to mirror your encoder architecture, which ensures that the `latent space` output of our `encoder` is correctly transformed to our input shape.\n",
    "\n",
    "<div class=\"alert alert-info\">\n",
    "    <h3>Task: Implement</h3>\n",
    "    <p>Implement the <code>Decoder</code> class initialization in <code>exercise_code/models.py</code>.</p>\n",
    "    <p>Implement <code>forward</code>, <code>set_optimizer</code>, <code>training_step</code> and <code>validation_step</code> of the <code>Autoencoder</code> in  <code>exercise_code/models.py</code>, following the pipeline we've shown you in train_classifier().</p>\n",
    "    <p>Note the differences between the classification task and now the regression task!</p>\n",
    "\n",
    "\n",
    "</div>\n",
    "\n",
    "## 3.2 Autoencoder Training\n",
    "\n",
    "Now, we can train the full autoencoder consisting of both en- and decoder.\n",
    "\n",
    "\n"
   ]
  },
  {
   "cell_type": "code",
   "execution_count": 45,
   "metadata": {
    "id": "xqqdoLDgMNkm",
    "scrolled": true
   },
   "outputs": [],
   "source": [
    "from exercise_code.models import Autoencoder, Encoder, Decoder\n",
    "\n",
    "########################################################################\n",
    "# TODO: Define your hyperparameters here!                              #\n",
    "# Hint: use a large batch_size                                         #\n",
    "########################################################################\n",
    "hparams = {\n",
    "    \"cls_hidden_size_1\" : 512,\n",
    "    \"cls_hidden_size_2\" : 128,\n",
    "    \"dec_hidden_size_1\" : 128,\n",
    "    \"dec_hidden_size_2\" : 128,\n",
    "    \"dec_hidden_size_3\" : 128,\n",
    "    \"cls_learning_rate\" : 1e-5,\n",
    "    \"batch_size\"        : 16,\n",
    "    \"ae_learning_rate\"  : 1e-3,\n",
    "}\n",
    "\n",
    "\n",
    "########################################################################\n",
    "#                           END OF YOUR CODE                           #\n",
    "########################################################################\n",
    "encoder_pretrained = Encoder(hparams).to(device)\n",
    "decoder = Decoder(hparams).to(device)\n",
    "autoencoder = Autoencoder(hparams, encoder_pretrained, decoder).to(device)"
   ]
  },
  {
   "attachments": {},
   "cell_type": "markdown",
   "metadata": {
    "id": "uRuIIm8YMNkn"
   },
   "source": [
    "Some tests to check whether we'll accept your model."
   ]
  },
  {
   "cell_type": "code",
   "execution_count": 48,
   "metadata": {
    "id": "SoAaC-NqMNkn",
    "scrolled": true
   },
   "outputs": [
    {
     "name": "stdout",
     "output_type": "stream",
     "text": [
      "# Paramters: Your model has \u001b[92m0.941\u001b[0m mio. params.\n",
      "Model accepted!\n"
     ]
    }
   ],
   "source": [
    "from exercise_code.Util import printModelInfo, load_model\n",
    "_ = printModelInfo(autoencoder)"
   ]
  },
  {
   "attachments": {},
   "cell_type": "markdown",
   "metadata": {
    "id": "plQwnphtqggl"
   },
   "source": [
    "After implementing the relevant functions - read the following code, and then run it.\n",
    "Keep in mind that an epoch here will take much longer since\n",
    "we are iterating through 5,8600 images instead of just 100.\n",
    "\n",
    "For speed, colab is indeed recommended. "
   ]
  },
  {
   "cell_type": "code",
   "execution_count": 51,
   "metadata": {
    "id": "_uuzXMq6zjbb",
    "scrolled": true,
    "tags": []
   },
   "outputs": [
    {
     "name": "stderr",
     "output_type": "stream",
     "text": [
      "Training Epoch [0/5]: 100%|██████████████████████████████████████████| 3663/3663 [00:24<00:00, 150.53it/s, train_loss=0.03385601, val_loss=0.00000000]\n",
      "Validation Epoch [0/5]: 100%|███████████████████████████████████████████████████████████████████| 63/63 [00:00<00:00, 320.56it/s, val_loss=0.02661147]\n",
      "Training Epoch [1/5]: 100%|██████████████████████████████████████████| 3663/3663 [00:24<00:00, 149.37it/s, train_loss=0.02509197, val_loss=0.02661147]\n",
      "Validation Epoch [1/5]: 100%|███████████████████████████████████████████████████████████████████| 63/63 [00:00<00:00, 323.11it/s, val_loss=0.02445800]\n",
      "Training Epoch [2/5]: 100%|██████████████████████████████████████████| 3663/3663 [00:24<00:00, 149.19it/s, train_loss=0.02344846, val_loss=0.02445800]\n",
      "Validation Epoch [2/5]: 100%|███████████████████████████████████████████████████████████████████| 63/63 [00:00<00:00, 317.11it/s, val_loss=0.02309822]\n",
      "Training Epoch [3/5]: 100%|██████████████████████████████████████████| 3663/3663 [00:24<00:00, 149.01it/s, train_loss=0.02260105, val_loss=0.02309822]\n",
      "Validation Epoch [3/5]: 100%|███████████████████████████████████████████████████████████████████| 63/63 [00:00<00:00, 326.08it/s, val_loss=0.02258721]\n",
      "Training Epoch [4/5]: 100%|██████████████████████████████████████████| 3663/3663 [00:24<00:00, 148.03it/s, train_loss=0.02185943, val_loss=0.02258721]\n",
      "Validation Epoch [4/5]: 100%|███████████████████████████████████████████████████████████████████| 63/63 [00:00<00:00, 301.77it/s, val_loss=0.02186210]"
     ]
    },
    {
     "name": "stdout",
     "output_type": "stream",
     "text": [
      "Finished training!\n"
     ]
    },
    {
     "name": "stderr",
     "output_type": "stream",
     "text": [
      "\n"
     ]
    }
   ],
   "source": [
    "encoder_pretrained = Encoder(hparams).to(device)\n",
    "decoder = Decoder(hparams).to(device)\n",
    "autoencoder = Autoencoder(hparams, encoder_pretrained, decoder).to(device)\n",
    "\n",
    "def train_model(model, train_loader, val_loader, loss_func, tb_logger, epochs=10, name='Autoencoder'):\n",
    "    \n",
    "    optimizer = model.optimizer\n",
    "    scheduler = torch.optim.lr_scheduler.StepLR(optimizer, step_size=epochs * len(train_loader) / 5, gamma=0.7)\n",
    "    validation_loss = 0\n",
    "    model = model.to(device)\n",
    "    for epoch in range(epochs):\n",
    "        \n",
    "        # Train\n",
    "        training_loop = create_tqdm_bar(train_loader, desc=f'Training Epoch [{epoch}/{epochs}]')\n",
    "        training_loss = 0\n",
    "        for train_iteration, batch in training_loop:\n",
    "            \n",
    "            loss = model.training_step(batch, loss_func) # You need to implement this function.\n",
    "            training_loss += loss.item()\n",
    "            scheduler.step()\n",
    "\n",
    "            # Update the progress bar.\n",
    "            training_loop.set_postfix(train_loss = \"{:.8f}\".format(training_loss / (train_iteration + 1)), val_loss = \"{:.8f}\".format(validation_loss))\n",
    "\n",
    "            # Update the tensorboard logger.\n",
    "            tb_logger.add_scalar(f'{name}/train_loss', loss.item(), epoch * len(train_loader) + train_iteration)\n",
    "\n",
    "        # Validation\n",
    "        val_loop = create_tqdm_bar(val_loader, desc=f'Validation Epoch [{epoch}/{epochs}]')\n",
    "        validation_loss = 0\n",
    "        with torch.no_grad():\n",
    "            for val_iteration, batch in val_loop:\n",
    "                loss = model.validation_step(batch, loss_func) # You need to implement this function.\n",
    "                validation_loss += loss.item()\n",
    "\n",
    "                # Update the progress bar.\n",
    "                val_loop.set_postfix(val_loss = \"{:.8f}\".format(validation_loss / (val_iteration + 1)))\n",
    "\n",
    "                # Update the tensorboard logger.\n",
    "                tb_logger.add_scalar(f'{name}/val_loss', validation_loss / (val_iteration + 1), epoch * len(val_loader) + val_iteration)\n",
    "        # This value is for the progress bar of the training loop.\n",
    "        validation_loss /= len(val_loader)\n",
    "\n",
    "# Create a tensorboard logger.\n",
    "# NOTE: In order to see the logs, run the following command in the terminal: tensorboard --logdir=./\n",
    "# Also, in order to reset the logs, delete the logs folder MANUALLY.\n",
    "\n",
    "path = os.path.join('logs', 'ae_logs')\n",
    "num_of_runs = len(os.listdir(path)) if os.path.exists(path) else 0\n",
    "path = os.path.join(path, f'run_{num_of_runs + 1}')\n",
    "tb_logger = SummaryWriter(path)\n",
    "\n",
    "# Train the classifier.\n",
    "unlabled_train_loader = torch.utils.data.DataLoader(unlabeled_train, batch_size=hparams['batch_size'], shuffle=True)\n",
    "unlabled_val_loader = torch.utils.data.DataLoader(unlabeled_val, batch_size=hparams['batch_size'], shuffle=False)\n",
    "\n",
    "epochs = hparams.get('epochs', 5)\n",
    "loss_func = nn.MSELoss() # The loss function we use for regression (Could also be nn.L1Loss()).\n",
    "train_model(autoencoder, unlabled_train_loader, unlabled_val_loader, loss_func, tb_logger, epochs=epochs, name='Autoencoder')\n",
    "\n",
    "print(\"Finished training!\")"
   ]
  },
  {
   "attachments": {},
   "cell_type": "markdown",
   "metadata": {
    "id": "vdgiYWy4MNkq"
   },
   "source": [
    "Once trained, let's have a look at the reconstructed validation images (If you have not already looked at them in TensorBoard)."
   ]
  },
  {
   "cell_type": "code",
   "execution_count": 53,
   "metadata": {
    "id": "a991mKcyMNkq"
   },
   "outputs": [
    {
     "data": {
      "image/png": "[encoded data removed]",
      "text/plain": [
       "<Figure size 1600x1600 with 64 Axes>"
      ]
     },
     "metadata": {},
     "output_type": "display_data"
    }
   ],
   "source": [
    "reconstructions = autoencoder.getReconstructions(unlabled_val_loader)\n",
    "for i in range(64):\n",
    "    plt.subplot(8,8,i+1)\n",
    "    plt.axis('off')\n",
    "    plt.imshow(reconstructions[i], cmap='gray', interpolation='none')\n",
    "    \n",
    "plt.tight_layout()"
   ]
  },
  {
   "attachments": {},
   "cell_type": "markdown",
   "metadata": {
    "id": "R2hrP5b1MNkr"
   },
   "source": [
    "# 4. Transfer Learning\n",
    "\n",
    "## 4.1 The pretrained Classifier\n",
    "\n",
    "Now we initialize another classifier but this time with the pretrained encoder."
   ]
  },
  {
   "cell_type": "code",
   "execution_count": 56,
   "metadata": {
    "id": "OELYQAUmMNkr"
   },
   "outputs": [],
   "source": [
    "from exercise_code.models import Classifier\n",
    "from copy import deepcopy\n",
    "\n",
    "hparams = {}\n",
    "########################################################################\n",
    "# TODO: Define your hyperparameters here!                             #\n",
    "########################################################################\n",
    "hparams = {\n",
    "    \"cls_hidden_size_1\" : 512,\n",
    "    \"cls_hidden_size_2\" : 128,\n",
    "    \"cls_activation\" : nn.LeakyReLU,\n",
    "    \"dec_hidden_size_1\" : 128,\n",
    "    \"dec_hidden_size_2\" : 128,\n",
    "    \"dec_hidden_size_3\" : 128,\n",
    "    \"cls_learning_rate\" : 3*1e-4,\n",
    "    \"batch_size\"        : 16,\n",
    "    \"ae_learning_rate\"  : 1e-3,\n",
    "    \"epochs\"            : 40\n",
    "}\n",
    "\n",
    "\n",
    "########################################################################\n",
    "#                           END OF YOUR CODE                           #\n",
    "########################################################################\n",
    "\n",
    "encoder_pretrained_copy = deepcopy(encoder_pretrained)\n",
    "classifier_pretrained = Classifier(hparams, encoder_pretrained_copy).to(device)"
   ]
  },
  {
   "attachments": {},
   "cell_type": "markdown",
   "metadata": {
    "id": "R8FUtih6MNks"
   },
   "source": [
    "Let's define another trainer that will utilize the pretrained classifier, allowing us to compare its performance with the classifier trained only on the labeled data. To achieve a reasonable result, you may need to optimize the parameters you defined earlier."
   ]
  },
  {
   "cell_type": "code",
   "execution_count": 59,
   "metadata": {
    "id": "Mx_euorWMNks"
   },
   "outputs": [
    {
     "name": "stderr",
     "output_type": "stream",
     "text": [
      "Training Epoch [1/40]: 100%|███████████████████████████████████████████| 7/7 [00:00<00:00,  9.30it/s, curr_train_loss=2.30616954, val_loss=0.00000000]\n",
      "Validation Epoch [1/40]: 100%|█████████████████████████████████████████████████████████████████████| 7/7 [00:00<00:00,  9.63it/s, val_loss=2.29919216]\n",
      "Training Epoch [2/40]: 100%|███████████████████████████████████████████| 7/7 [00:00<00:00,  9.33it/s, curr_train_loss=2.29205748, val_loss=2.29919216]\n",
      "Validation Epoch [2/40]: 100%|█████████████████████████████████████████████████████████████████████| 7/7 [00:00<00:00,  9.60it/s, val_loss=2.31436988]\n",
      "Training Epoch [3/40]: 100%|███████████████████████████████████████████| 7/7 [00:00<00:00,  9.36it/s, curr_train_loss=2.23374908, val_loss=2.31436988]\n",
      "Validation Epoch [3/40]: 100%|█████████████████████████████████████████████████████████████████████| 7/7 [00:00<00:00,  9.62it/s, val_loss=2.29320805]\n",
      "Training Epoch [4/40]: 100%|███████████████████████████████████████████| 7/7 [00:00<00:00,  9.35it/s, curr_train_loss=2.21141979, val_loss=2.29320805]\n",
      "Validation Epoch [4/40]: 100%|█████████████████████████████████████████████████████████████████████| 7/7 [00:00<00:00,  9.61it/s, val_loss=2.30412023]\n",
      "Training Epoch [5/40]: 100%|███████████████████████████████████████████| 7/7 [00:00<00:00,  9.34it/s, curr_train_loss=2.17530918, val_loss=2.30412023]\n",
      "Validation Epoch [5/40]: 100%|█████████████████████████████████████████████████████████████████████| 7/7 [00:00<00:00,  9.60it/s, val_loss=2.28319853]\n",
      "Training Epoch [6/40]: 100%|███████████████████████████████████████████| 7/7 [00:00<00:00,  9.34it/s, curr_train_loss=2.01718879, val_loss=2.28319853]\n",
      "Validation Epoch [6/40]: 100%|█████████████████████████████████████████████████████████████████████| 7/7 [00:00<00:00,  9.60it/s, val_loss=2.29508703]\n",
      "Training Epoch [7/40]: 100%|███████████████████████████████████████████| 7/7 [00:00<00:00,  9.36it/s, curr_train_loss=2.03720559, val_loss=2.29508703]\n",
      "Validation Epoch [7/40]: 100%|█████████████████████████████████████████████████████████████████████| 7/7 [00:00<00:00,  9.62it/s, val_loss=2.24769330]\n",
      "Training Epoch [8/40]: 100%|███████████████████████████████████████████| 7/7 [00:00<00:00,  9.35it/s, curr_train_loss=1.87288911, val_loss=2.24769330]\n",
      "Validation Epoch [8/40]: 100%|█████████████████████████████████████████████████████████████████████| 7/7 [00:00<00:00,  9.62it/s, val_loss=2.19435881]\n",
      "Training Epoch [9/40]: 100%|███████████████████████████████████████████| 7/7 [00:00<00:00,  9.36it/s, curr_train_loss=1.91506542, val_loss=2.19435881]\n",
      "Validation Epoch [9/40]: 100%|█████████████████████████████████████████████████████████████████████| 7/7 [00:00<00:00,  9.62it/s, val_loss=2.17788468]\n",
      "Training Epoch [10/40]: 100%|██████████████████████████████████████████| 7/7 [00:00<00:00,  9.38it/s, curr_train_loss=1.76499397, val_loss=2.17788468]\n",
      "Validation Epoch [10/40]: 100%|████████████████████████████████████████████████████████████████████| 7/7 [00:00<00:00,  9.62it/s, val_loss=2.17009040]\n",
      "Training Epoch [11/40]: 100%|██████████████████████████████████████████| 7/7 [00:00<00:00,  9.35it/s, curr_train_loss=1.57521219, val_loss=2.17009040]\n",
      "Validation Epoch [11/40]: 100%|████████████████████████████████████████████████████████████████████| 7/7 [00:00<00:00,  9.63it/s, val_loss=2.10073490]\n",
      "Training Epoch [12/40]: 100%|██████████████████████████████████████████| 7/7 [00:00<00:00,  9.39it/s, curr_train_loss=1.52847471, val_loss=2.10073490]\n",
      "Validation Epoch [12/40]: 100%|████████████████████████████████████████████████████████████████████| 7/7 [00:00<00:00,  9.62it/s, val_loss=2.08387692]\n",
      "Training Epoch [13/40]: 100%|██████████████████████████████████████████| 7/7 [00:00<00:00,  9.35it/s, curr_train_loss=1.44487228, val_loss=2.08387692]\n",
      "Validation Epoch [13/40]: 100%|████████████████████████████████████████████████████████████████████| 7/7 [00:00<00:00,  9.61it/s, val_loss=2.04784724]\n",
      "Training Epoch [14/40]: 100%|██████████████████████████████████████████| 7/7 [00:00<00:00,  9.31it/s, curr_train_loss=1.23940104, val_loss=2.04784724]\n",
      "Validation Epoch [14/40]: 100%|████████████████████████████████████████████████████████████████████| 7/7 [00:00<00:00,  9.61it/s, val_loss=1.90648030]\n",
      "Training Epoch [15/40]: 100%|██████████████████████████████████████████| 7/7 [00:00<00:00,  9.34it/s, curr_train_loss=1.11786006, val_loss=1.90648030]\n",
      "Validation Epoch [15/40]: 100%|████████████████████████████████████████████████████████████████████| 7/7 [00:00<00:00,  9.62it/s, val_loss=2.00209233]\n",
      "Training Epoch [16/40]: 100%|██████████████████████████████████████████| 7/7 [00:00<00:00,  9.37it/s, curr_train_loss=1.06275198, val_loss=2.00209233]\n",
      "Validation Epoch [16/40]: 100%|████████████████████████████████████████████████████████████████████| 7/7 [00:00<00:00,  9.62it/s, val_loss=1.90720257]\n",
      "Training Epoch [17/40]: 100%|██████████████████████████████████████████| 7/7 [00:00<00:00,  9.37it/s, curr_train_loss=1.02453641, val_loss=1.90720257]\n",
      "Validation Epoch [17/40]: 100%|████████████████████████████████████████████████████████████████████| 7/7 [00:00<00:00,  9.62it/s, val_loss=1.86445950]\n",
      "Training Epoch [18/40]: 100%|██████████████████████████████████████████| 7/7 [00:00<00:00,  9.37it/s, curr_train_loss=0.91235261, val_loss=1.86445950]\n",
      "Validation Epoch [18/40]: 100%|████████████████████████████████████████████████████████████████████| 7/7 [00:00<00:00,  9.61it/s, val_loss=2.02419203]\n",
      "Training Epoch [19/40]: 100%|██████████████████████████████████████████| 7/7 [00:00<00:00,  9.34it/s, curr_train_loss=0.91484989, val_loss=2.02419203]\n",
      "Validation Epoch [19/40]: 100%|████████████████████████████████████████████████████████████████████| 7/7 [00:00<00:00,  9.61it/s, val_loss=1.80607680]\n",
      "Training Epoch [20/40]: 100%|██████████████████████████████████████████| 7/7 [00:00<00:00,  9.36it/s, curr_train_loss=0.80359792, val_loss=1.80607680]\n",
      "Validation Epoch [20/40]: 100%|████████████████████████████████████████████████████████████████████| 7/7 [00:00<00:00,  9.60it/s, val_loss=1.75559998]\n",
      "Training Epoch [21/40]: 100%|██████████████████████████████████████████| 7/7 [00:00<00:00,  9.33it/s, curr_train_loss=0.74493314, val_loss=1.75559998]\n",
      "Validation Epoch [21/40]: 100%|████████████████████████████████████████████████████████████████████| 7/7 [00:00<00:00,  9.63it/s, val_loss=1.81639937]\n",
      "Training Epoch [22/40]: 100%|██████████████████████████████████████████| 7/7 [00:00<00:00,  9.35it/s, curr_train_loss=0.57294238, val_loss=1.81639937]\n",
      "Validation Epoch [22/40]: 100%|████████████████████████████████████████████████████████████████████| 7/7 [00:00<00:00,  9.58it/s, val_loss=1.78314818]\n",
      "Training Epoch [23/40]: 100%|██████████████████████████████████████████| 7/7 [00:00<00:00,  9.36it/s, curr_train_loss=0.68810208, val_loss=1.78314818]\n",
      "Validation Epoch [23/40]: 100%|████████████████████████████████████████████████████████████████████| 7/7 [00:00<00:00,  9.62it/s, val_loss=1.84506039]\n",
      "Training Epoch [24/40]: 100%|██████████████████████████████████████████| 7/7 [00:00<00:00,  9.34it/s, curr_train_loss=0.48679768, val_loss=1.84506039]\n",
      "Validation Epoch [24/40]: 100%|████████████████████████████████████████████████████████████████████| 7/7 [00:00<00:00,  9.63it/s, val_loss=1.92547391]\n",
      "Training Epoch [25/40]: 100%|██████████████████████████████████████████| 7/7 [00:00<00:00,  9.33it/s, curr_train_loss=0.45142262, val_loss=1.92547391]\n",
      "Validation Epoch [25/40]: 100%|████████████████████████████████████████████████████████████████████| 7/7 [00:00<00:00,  9.58it/s, val_loss=1.97681612]\n",
      "Training Epoch [26/40]: 100%|██████████████████████████████████████████| 7/7 [00:00<00:00,  9.36it/s, curr_train_loss=0.37700422, val_loss=1.97681612]\n",
      "Validation Epoch [26/40]: 100%|████████████████████████████████████████████████████████████████████| 7/7 [00:00<00:00,  9.62it/s, val_loss=1.81333380]\n",
      "Training Epoch [27/40]: 100%|██████████████████████████████████████████| 7/7 [00:00<00:00,  9.36it/s, curr_train_loss=0.41443967, val_loss=1.81333380]\n",
      "Validation Epoch [27/40]: 100%|████████████████████████████████████████████████████████████████████| 7/7 [00:00<00:00,  9.62it/s, val_loss=1.85305556]\n",
      "Training Epoch [28/40]: 100%|██████████████████████████████████████████| 7/7 [00:00<00:00,  9.32it/s, curr_train_loss=0.28372767, val_loss=1.85305556]\n",
      "Validation Epoch [28/40]: 100%|████████████████████████████████████████████████████████████████████| 7/7 [00:00<00:00,  9.59it/s, val_loss=2.08191093]\n",
      "Training Epoch [29/40]: 100%|██████████████████████████████████████████| 7/7 [00:00<00:00,  9.36it/s, curr_train_loss=0.28850891, val_loss=2.08191093]\n",
      "Validation Epoch [29/40]: 100%|████████████████████████████████████████████████████████████████████| 7/7 [00:00<00:00,  9.61it/s, val_loss=1.85469044]\n",
      "Training Epoch [30/40]: 100%|██████████████████████████████████████████| 7/7 [00:00<00:00,  9.38it/s, curr_train_loss=0.23790721, val_loss=1.85469044]\n",
      "Validation Epoch [30/40]: 100%|████████████████████████████████████████████████████████████████████| 7/7 [00:00<00:00,  9.63it/s, val_loss=1.77843579]\n",
      "Training Epoch [31/40]: 100%|██████████████████████████████████████████| 7/7 [00:00<00:00,  9.37it/s, curr_train_loss=0.23675972, val_loss=1.77843579]\n",
      "Validation Epoch [31/40]: 100%|████████████████████████████████████████████████████████████████████| 7/7 [00:00<00:00,  9.59it/s, val_loss=2.03627972]\n",
      "Training Epoch [32/40]: 100%|██████████████████████████████████████████| 7/7 [00:00<00:00,  9.34it/s, curr_train_loss=0.20945255, val_loss=2.03627972]\n",
      "Validation Epoch [32/40]: 100%|████████████████████████████████████████████████████████████████████| 7/7 [00:00<00:00,  9.63it/s, val_loss=2.01807553]\n",
      "Training Epoch [33/40]: 100%|██████████████████████████████████████████| 7/7 [00:00<00:00,  9.37it/s, curr_train_loss=0.27132217, val_loss=2.01807553]\n",
      "Validation Epoch [33/40]: 100%|████████████████████████████████████████████████████████████████████| 7/7 [00:00<00:00,  9.56it/s, val_loss=1.95610553]\n",
      "Training Epoch [34/40]: 100%|██████████████████████████████████████████| 7/7 [00:00<00:00,  9.37it/s, curr_train_loss=0.15384885, val_loss=1.95610553]\n",
      "Validation Epoch [34/40]: 100%|████████████████████████████████████████████████████████████████████| 7/7 [00:00<00:00,  9.61it/s, val_loss=1.81252302]\n",
      "Training Epoch [35/40]: 100%|██████████████████████████████████████████| 7/7 [00:00<00:00,  9.32it/s, curr_train_loss=0.14144744, val_loss=1.81252302]\n",
      "Validation Epoch [35/40]: 100%|████████████████████████████████████████████████████████████████████| 7/7 [00:00<00:00,  9.60it/s, val_loss=1.64435373]\n",
      "Training Epoch [36/40]: 100%|██████████████████████████████████████████| 7/7 [00:00<00:00,  9.36it/s, curr_train_loss=0.09181733, val_loss=1.64435373]\n",
      "Validation Epoch [36/40]: 100%|████████████████████████████████████████████████████████████████████| 7/7 [00:00<00:00,  9.60it/s, val_loss=1.56010486]\n",
      "Training Epoch [37/40]: 100%|██████████████████████████████████████████| 7/7 [00:00<00:00,  9.31it/s, curr_train_loss=0.10954344, val_loss=1.56010486]\n",
      "Validation Epoch [37/40]: 100%|████████████████████████████████████████████████████████████████████| 7/7 [00:00<00:00,  9.61it/s, val_loss=1.48687636]\n",
      "Training Epoch [38/40]: 100%|██████████████████████████████████████████| 7/7 [00:00<00:00,  9.38it/s, curr_train_loss=0.09599870, val_loss=1.48687636]\n",
      "Validation Epoch [38/40]: 100%|████████████████████████████████████████████████████████████████████| 7/7 [00:00<00:00,  9.63it/s, val_loss=1.73340206]\n",
      "Training Epoch [39/40]: 100%|██████████████████████████████████████████| 7/7 [00:00<00:00,  9.35it/s, curr_train_loss=0.05329704, val_loss=1.73340206]\n",
      "Validation Epoch [39/40]: 100%|████████████████████████████████████████████████████████████████████| 7/7 [00:00<00:00,  9.63it/s, val_loss=1.69621128]\n",
      "Training Epoch [40/40]: 100%|██████████████████████████████████████████| 7/7 [00:00<00:00,  9.33it/s, curr_train_loss=0.09025064, val_loss=1.69621128]\n",
      "Validation Epoch [40/40]: 100%|████████████████████████████████████████████████████████████████████| 7/7 [00:00<00:00,  9.63it/s, val_loss=1.55610996]"
     ]
    },
    {
     "name": "stdout",
     "output_type": "stream",
     "text": [
      "Finished training!\n"
     ]
    },
    {
     "name": "stderr",
     "output_type": "stream",
     "text": [
      "\n"
     ]
    }
   ],
   "source": [
    "\n",
    "# Create a tensorboard logger.\n",
    "# NOTE: In order to see the logs, run the following command in the terminal: tensorboard --logdir=./\n",
    "# Also, in order to reset the logs, delete the logs folder MANUALLY.\n",
    "# Pay attention that if you run this cell mutltiple times, the pretrained_encoder\n",
    "# is not reset, and will keep training from where it stopped. Thus, it could overfit.\n",
    "\n",
    "path = os.path.join('logs', 'pretrained_cls_logs')\n",
    "num_of_runs = len(os.listdir(path)) if os.path.exists(path) else 0\n",
    "path = os.path.join(path, f'run_{num_of_runs + 1}')\n",
    "tb_logger = SummaryWriter(path)\n",
    "\n",
    "batch_size = hparams.get('batch_size', 16)\n",
    "labled_train_loader = torch.utils.data.DataLoader(train_100_dataset, batch_size=batch_size, shuffle=True)\n",
    "labled_val_loader = torch.utils.data.DataLoader(val_100_dataset, batch_size=batch_size, shuffle=False)\n",
    "\n",
    "epochs = hparams.get('epochs', 20)\n",
    "loss_func = nn.CrossEntropyLoss() # The loss function we use for classification.\n",
    "train_classifier(classifier_pretrained, labled_train_loader, labled_val_loader, loss_func, tb_logger, epochs=epochs, name='Pretrained')\n",
    "\n",
    "print(\"Finished training!\") "
   ]
  },
  {
   "attachments": {},
   "cell_type": "markdown",
   "metadata": {
    "id": "H-pm1MY_MNks"
   },
   "source": [
    "Let's have a look at the validation accuracy of the two different classifiers and compare them. And don't forget that you can also monitor your training in TensorBoard.\n",
    "\n",
    "We will only look at the test accuracy and compare our two classifiers with respect to that in the very end."
   ]
  },
  {
   "cell_type": "code",
   "execution_count": 62,
   "metadata": {
    "id": "-e5Bd9KLMNkt"
   },
   "outputs": [
    {
     "name": "stdout",
     "output_type": "stream",
     "text": [
      "Validation accuracy when training from scratch: \u001b[91m50.0\u001b[0m%\n",
      "Validation accuracy with pretraining: \u001b[92m66.0\u001b[0m%\n"
     ]
    }
   ],
   "source": [
    "val_acc_scracth = classifier.getAcc(labled_val_loader)[1]*100\n",
    "color = 'green' if val_acc_scracth > 55 else 'red'\n",
    "print(f\"Validation accuracy when training from scratch: {bcolors.colorize(color, val_acc_scracth)}%\")\n",
    "\n",
    "val_acc_pretrained = classifier_pretrained.getAcc(labled_val_loader)[1]*100\n",
    "color = 'green' if val_acc_pretrained > 55 else 'red'\n",
    "print(f\"Validation accuracy with pretraining: {bcolors.colorize(color, val_acc_pretrained)}%\")\n",
    "\n",
    "\n"
   ]
  },
  {
   "attachments": {},
   "cell_type": "markdown",
   "metadata": {
    "id": "zAp2OTyf4_5b"
   },
   "source": [
    "Now that everything is working, feel free to play around with different architectures. As you've seen, it's quite easy to define your model or do adpations there.\n",
    "\n",
    "To pass this submission, you will need to achieve an accuracy of **55%**."
   ]
  },
  {
   "attachments": {},
   "cell_type": "markdown",
   "metadata": {
    "id": "OmEYmRT-5S-e"
   },
   "source": [
    "# Save your model & Report Test Accuracy\n",
    "\n",
    "When you are finally done with your **hyperparameter tuning**, achieved **at least 55% validation accuracy** and are happy with your final model, you can save it here.\n",
    "\n",
    "Before that, please check again whether the number of parameters is below 5 Mio and the file size is below 20 MB.\n",
    "\n",
    "Once your final model is saved, we'll finally report the test accuracy."
   ]
  },
  {
   "cell_type": "code",
   "execution_count": 64,
   "metadata": {
    "id": "S69ETKxD5TcE",
    "scrolled": true
   },
   "outputs": [
    {
     "name": "stdout",
     "output_type": "stream",
     "text": [
      "Test accuracy when training from scratch: \u001b[92m55.00000000000001\u001b[0m%\n",
      "Test accuracy with pretraining: \u001b[92m79.0\u001b[0m%\n",
      "Validation Accuracy: \u001b[92m67.0\u001b[0m%\n",
      "# Paramters: Your model has \u001b[92m0.548\u001b[0m mio. params.\n",
      "Size: Great! Your model size is \u001b[92m4.1\u001b[0m MB and is less than 20 MB.\n",
      "Your model has been saved and is ready to be submitted.\n"
     ]
    }
   ],
   "source": [
    "from exercise_code.Util import test_and_save\n",
    "test_dl = torch.utils.data.DataLoader(test_100_dataset, batch_size=4, shuffle=False)\n",
    "\n",
    "test_acc = classifier.getAcc(test_dl)[1]*100\n",
    "color = 'green' if test_acc > 55 else 'red'\n",
    "print(f\"Test accuracy when training from scratch: {bcolors.colorize(color, test_acc)}%\")\n",
    "\n",
    "test_acc = classifier_pretrained.getAcc(test_dl)[1]*100\n",
    "color = 'green' if test_acc > 55 else 'red'\n",
    "print(f\"Test accuracy with pretraining: {bcolors.colorize(color, test_acc)}%\")\n",
    "\n",
    "test_and_save(classifier_pretrained, labled_val_loader, test_dl)"
   ]
  },
  {
   "cell_type": "code",
   "execution_count": 66,
   "metadata": {
    "id": "enZCnGL6MNkt"
   },
   "outputs": [
    {
     "name": "stdout",
     "output_type": "stream",
     "text": [
      "relevant folders: ['exercise_code', 'models']\n",
      "notebooks files: ['1_Autoencoder.ipynb', 'Optional-BatchNormalization_Dropout.ipynb']\n",
      "Adding folder exercise_code\n",
      "Adding folder models\n",
      "Adding notebook 1_Autoencoder.ipynb\n",
      "Adding notebook Optional-BatchNormalization_Dropout.ipynb\n",
      "Zipping successful! Zip is stored under: D:\\jupyter_project\\output\\exercise_08.zip\n"
     ]
    }
   ],
   "source": [
    "# Now zip the folder for upload\n",
    "from exercise_code.submit import submit_exercise\n",
    "\n",
    "submit_exercise('../output/exercise_08')"
   ]
  },
  {
   "attachments": {},
   "cell_type": "markdown",
   "metadata": {
    "id": "7fuo3Tf9MNku",
    "pycharm": {
     "name": "#%% md\n"
    }
   },
   "source": [
    "Congratulations on completing your first autoencoder and successfully transferring the weights to a classifier! It's remarkable how much easier this process becomes with the power of PyTorch, compared to working with plain NumPy, right?\n",
    "\n",
    "To complete the exercise, please submit your final model to [our submission portal](https://i2dl.vc.in.tum.de/) - you should be already familiar with the submission procedure. Next, it is time to get started with some more complex neural networks and tasks in the upcoming exercises. See you next week!\n",
    "\n",
    "# Submission Goals\n",
    "\n",
    "- Goal: Successfully implement a fully connected autoencoder for MNIST with Pytorch and transfer the encoder weights to a classifier.\n",
    "\n",
    "- Passing Criteria: There are no unit tests that check specific components of your code. The only thing that's required to pass the submission, is your model to reach at least **55% accuracy** on __our__ test dataset. The submission system will show you a number between 0 and 100 which corresponds to your accuracy.\n",
    "\n",
    "\n",
    "- You can make **$\\infty$** submissions until the deadline. Your __best submission__ will be considered for the bonus."
   ]
  }
 ],
 "metadata": {
  "accelerator": "GPU",
  "colab": {
   "provenance": []
  },
  "kernelspec": {
   "display_name": "Python 3 (ipykernel)",
   "language": "python",
   "name": "python3"
  },
  "language_info": {
   "codemirror_mode": {
    "name": "ipython",
    "version": 3
   },
   "file_extension": ".py",
   "mimetype": "text/x-python",
   "name": "python",
   "nbconvert_exporter": "python",
   "pygments_lexer": "ipython3",
   "version": "3.12.3"
  }
 },
 "nbformat": 4,
 "nbformat_minor": 4
}
